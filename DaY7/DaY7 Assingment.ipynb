{
 "cells": [
  {
   "cell_type": "markdown",
   "metadata": {},
   "source": [
    "# Attrition Analysis Project"
   ]
  },
  {
   "cell_type": "code",
   "execution_count": 2,
   "metadata": {},
   "outputs": [],
   "source": [
    "import numpy as np\n",
    "import pandas as pd\n",
    "import matplotlib.pyplot as plt\n",
    "dataset= pd.read_csv(\"C:/Users/DELL/Documents/LetsUpgrade/AL-MI/DaY7/general_data.csv\")"
   ]
  },
  {
   "cell_type": "code",
   "execution_count": 4,
   "metadata": {},
   "outputs": [
    {
     "name": "stdout",
     "output_type": "stream",
     "text": [
      "Index(['Age', 'Attrition', 'BusinessTravel', 'Department', 'DistanceFromHome',\n",
      "       'Education', 'EducationField', 'EmployeeCount', 'EmployeeID', 'Gender',\n",
      "       'JobLevel', 'JobRole', 'MaritalStatus', 'MonthlyIncome',\n",
      "       'NumCompaniesWorked', 'Over18', 'PercentSalaryHike', 'StandardHours',\n",
      "       'StockOptionLevel', 'TotalWorkingYears', 'TrainingTimesLastYear',\n",
      "       'YearsAtCompany', 'YearsSinceLastPromotion', 'YearsWithCurrManager'],\n",
      "      dtype='object')\n",
      "               Age    Attrition  DistanceFromHome    Education  EmployeeCount  \\\n",
      "count  4410.000000  4410.000000       4410.000000  4410.000000         4410.0   \n",
      "mean     36.923810     0.161224          9.192517     2.912925            1.0   \n",
      "std       9.133301     0.367780          8.105026     1.023933            0.0   \n",
      "min      18.000000     0.000000          1.000000     1.000000            1.0   \n",
      "25%      30.000000     0.000000          2.000000     2.000000            1.0   \n",
      "50%      36.000000     0.000000          7.000000     3.000000            1.0   \n",
      "75%      43.000000     0.000000         14.000000     4.000000            1.0   \n",
      "max      60.000000     1.000000         29.000000     5.000000            1.0   \n",
      "\n",
      "        EmployeeID     JobLevel  MonthlyIncome  NumCompaniesWorked  \\\n",
      "count  4410.000000  4410.000000    4410.000000         4391.000000   \n",
      "mean   2205.500000     2.063946   65029.312925            2.694830   \n",
      "std    1273.201673     1.106689   47068.888559            2.498887   \n",
      "min       1.000000     1.000000   10090.000000            0.000000   \n",
      "25%    1103.250000     1.000000   29110.000000            1.000000   \n",
      "50%    2205.500000     2.000000   49190.000000            2.000000   \n",
      "75%    3307.750000     3.000000   83800.000000            4.000000   \n",
      "max    4410.000000     5.000000  199990.000000            9.000000   \n",
      "\n",
      "       PercentSalaryHike  StandardHours  StockOptionLevel  TotalWorkingYears  \\\n",
      "count        4410.000000         4410.0       4410.000000        4401.000000   \n",
      "mean           15.209524            8.0          0.793878          11.279936   \n",
      "std             3.659108            0.0          0.851883           7.782222   \n",
      "min            11.000000            8.0          0.000000           0.000000   \n",
      "25%            12.000000            8.0          0.000000           6.000000   \n",
      "50%            14.000000            8.0          1.000000          10.000000   \n",
      "75%            18.000000            8.0          1.000000          15.000000   \n",
      "max            25.000000            8.0          3.000000          40.000000   \n",
      "\n",
      "       TrainingTimesLastYear  YearsAtCompany  YearsSinceLastPromotion  \\\n",
      "count            4410.000000     4410.000000              4410.000000   \n",
      "mean                2.799320        7.008163                 2.187755   \n",
      "std                 1.288978        6.125135                 3.221699   \n",
      "min                 0.000000        0.000000                 0.000000   \n",
      "25%                 2.000000        3.000000                 0.000000   \n",
      "50%                 3.000000        5.000000                 1.000000   \n",
      "75%                 3.000000        9.000000                 3.000000   \n",
      "max                 6.000000       40.000000                15.000000   \n",
      "\n",
      "       YearsWithCurrManager  \n",
      "count           4410.000000  \n",
      "mean               4.123129  \n",
      "std                3.567327  \n",
      "min                0.000000  \n",
      "25%                2.000000  \n",
      "50%                3.000000  \n",
      "75%                7.000000  \n",
      "max               17.000000  \n",
      "        Age  Attrition  BusinessTravel  Department  DistanceFromHome  \\\n",
      "0     False      False           False       False             False   \n",
      "1     False      False           False       False             False   \n",
      "2     False      False           False       False             False   \n",
      "3     False      False           False       False             False   \n",
      "4     False      False           False       False             False   \n",
      "...     ...        ...             ...         ...               ...   \n",
      "4405  False      False           False       False             False   \n",
      "4406  False      False           False       False             False   \n",
      "4407  False      False           False       False             False   \n",
      "4408  False      False           False       False             False   \n",
      "4409  False      False           False       False             False   \n",
      "\n",
      "      Education  EducationField  EmployeeCount  EmployeeID  Gender  ...  \\\n",
      "0         False           False          False       False   False  ...   \n",
      "1         False           False          False       False   False  ...   \n",
      "2         False           False          False       False   False  ...   \n",
      "3         False           False          False       False   False  ...   \n",
      "4         False           False          False       False   False  ...   \n",
      "...         ...             ...            ...         ...     ...  ...   \n",
      "4405      False           False          False       False   False  ...   \n",
      "4406      False           False          False       False   False  ...   \n",
      "4407      False           False          False       False   False  ...   \n",
      "4408      False           False          False       False   False  ...   \n",
      "4409      False           False          False       False   False  ...   \n",
      "\n",
      "      NumCompaniesWorked  Over18  PercentSalaryHike  StandardHours  \\\n",
      "0                  False   False              False          False   \n",
      "1                  False   False              False          False   \n",
      "2                  False   False              False          False   \n",
      "3                  False   False              False          False   \n",
      "4                  False   False              False          False   \n",
      "...                  ...     ...                ...            ...   \n",
      "4405               False   False              False          False   \n",
      "4406               False   False              False          False   \n",
      "4407               False   False              False          False   \n",
      "4408               False   False              False          False   \n",
      "4409               False   False              False          False   \n",
      "\n",
      "      StockOptionLevel  TotalWorkingYears  TrainingTimesLastYear  \\\n",
      "0                False              False                  False   \n",
      "1                False              False                  False   \n",
      "2                False              False                  False   \n",
      "3                False              False                  False   \n",
      "4                False              False                  False   \n",
      "...                ...                ...                    ...   \n",
      "4405             False              False                  False   \n",
      "4406             False              False                  False   \n",
      "4407             False              False                  False   \n",
      "4408             False              False                  False   \n",
      "4409             False              False                  False   \n",
      "\n",
      "      YearsAtCompany  YearsSinceLastPromotion  YearsWithCurrManager  \n",
      "0              False                    False                 False  \n",
      "1              False                    False                 False  \n",
      "2              False                    False                 False  \n",
      "3              False                    False                 False  \n",
      "4              False                    False                 False  \n",
      "...              ...                      ...                   ...  \n",
      "4405           False                    False                 False  \n",
      "4406           False                    False                 False  \n",
      "4407           False                    False                 False  \n",
      "4408           False                    False                 False  \n",
      "4409           False                    False                 False  \n",
      "\n",
      "[4410 rows x 24 columns]\n"
     ]
    }
   ],
   "source": [
    "dataset.dropna()\n",
    "print(dataset.columns)\n",
    "print(dataset.describe())\n",
    "print(dataset.isnull())"
   ]
  },
  {
   "cell_type": "code",
   "execution_count": 5,
   "metadata": {},
   "outputs": [
    {
     "data": {
      "text/html": [
       "<div>\n",
       "<style scoped>\n",
       "    .dataframe tbody tr th:only-of-type {\n",
       "        vertical-align: middle;\n",
       "    }\n",
       "\n",
       "    .dataframe tbody tr th {\n",
       "        vertical-align: top;\n",
       "    }\n",
       "\n",
       "    .dataframe thead th {\n",
       "        text-align: right;\n",
       "    }\n",
       "</style>\n",
       "<table border=\"1\" class=\"dataframe\">\n",
       "  <thead>\n",
       "    <tr style=\"text-align: right;\">\n",
       "      <th></th>\n",
       "      <th>Age</th>\n",
       "      <th>Attrition</th>\n",
       "      <th>BusinessTravel</th>\n",
       "      <th>Department</th>\n",
       "      <th>DistanceFromHome</th>\n",
       "      <th>Education</th>\n",
       "      <th>EducationField</th>\n",
       "      <th>EmployeeCount</th>\n",
       "      <th>EmployeeID</th>\n",
       "      <th>Gender</th>\n",
       "      <th>...</th>\n",
       "      <th>NumCompaniesWorked</th>\n",
       "      <th>Over18</th>\n",
       "      <th>PercentSalaryHike</th>\n",
       "      <th>StandardHours</th>\n",
       "      <th>StockOptionLevel</th>\n",
       "      <th>TotalWorkingYears</th>\n",
       "      <th>TrainingTimesLastYear</th>\n",
       "      <th>YearsAtCompany</th>\n",
       "      <th>YearsSinceLastPromotion</th>\n",
       "      <th>YearsWithCurrManager</th>\n",
       "    </tr>\n",
       "  </thead>\n",
       "  <tbody>\n",
       "    <tr>\n",
       "      <th>0</th>\n",
       "      <td>51</td>\n",
       "      <td>0</td>\n",
       "      <td>Travel_Rarely</td>\n",
       "      <td>Sales</td>\n",
       "      <td>6</td>\n",
       "      <td>2</td>\n",
       "      <td>Life Sciences</td>\n",
       "      <td>1</td>\n",
       "      <td>1</td>\n",
       "      <td>Female</td>\n",
       "      <td>...</td>\n",
       "      <td>1.0</td>\n",
       "      <td>Y</td>\n",
       "      <td>11</td>\n",
       "      <td>8</td>\n",
       "      <td>0</td>\n",
       "      <td>1.0</td>\n",
       "      <td>6</td>\n",
       "      <td>1</td>\n",
       "      <td>0</td>\n",
       "      <td>0</td>\n",
       "    </tr>\n",
       "    <tr>\n",
       "      <th>1</th>\n",
       "      <td>32</td>\n",
       "      <td>0</td>\n",
       "      <td>Travel_Frequently</td>\n",
       "      <td>Research &amp; Development</td>\n",
       "      <td>17</td>\n",
       "      <td>4</td>\n",
       "      <td>Other</td>\n",
       "      <td>1</td>\n",
       "      <td>3</td>\n",
       "      <td>Male</td>\n",
       "      <td>...</td>\n",
       "      <td>1.0</td>\n",
       "      <td>Y</td>\n",
       "      <td>15</td>\n",
       "      <td>8</td>\n",
       "      <td>3</td>\n",
       "      <td>5.0</td>\n",
       "      <td>2</td>\n",
       "      <td>5</td>\n",
       "      <td>0</td>\n",
       "      <td>3</td>\n",
       "    </tr>\n",
       "    <tr>\n",
       "      <th>2</th>\n",
       "      <td>38</td>\n",
       "      <td>0</td>\n",
       "      <td>Non-Travel</td>\n",
       "      <td>Research &amp; Development</td>\n",
       "      <td>2</td>\n",
       "      <td>5</td>\n",
       "      <td>Life Sciences</td>\n",
       "      <td>1</td>\n",
       "      <td>4</td>\n",
       "      <td>Male</td>\n",
       "      <td>...</td>\n",
       "      <td>3.0</td>\n",
       "      <td>Y</td>\n",
       "      <td>11</td>\n",
       "      <td>8</td>\n",
       "      <td>3</td>\n",
       "      <td>13.0</td>\n",
       "      <td>5</td>\n",
       "      <td>8</td>\n",
       "      <td>7</td>\n",
       "      <td>5</td>\n",
       "    </tr>\n",
       "    <tr>\n",
       "      <th>3</th>\n",
       "      <td>32</td>\n",
       "      <td>0</td>\n",
       "      <td>Travel_Rarely</td>\n",
       "      <td>Research &amp; Development</td>\n",
       "      <td>10</td>\n",
       "      <td>1</td>\n",
       "      <td>Medical</td>\n",
       "      <td>1</td>\n",
       "      <td>5</td>\n",
       "      <td>Male</td>\n",
       "      <td>...</td>\n",
       "      <td>4.0</td>\n",
       "      <td>Y</td>\n",
       "      <td>12</td>\n",
       "      <td>8</td>\n",
       "      <td>2</td>\n",
       "      <td>9.0</td>\n",
       "      <td>2</td>\n",
       "      <td>6</td>\n",
       "      <td>0</td>\n",
       "      <td>4</td>\n",
       "    </tr>\n",
       "    <tr>\n",
       "      <th>4</th>\n",
       "      <td>46</td>\n",
       "      <td>0</td>\n",
       "      <td>Travel_Rarely</td>\n",
       "      <td>Research &amp; Development</td>\n",
       "      <td>8</td>\n",
       "      <td>3</td>\n",
       "      <td>Life Sciences</td>\n",
       "      <td>1</td>\n",
       "      <td>6</td>\n",
       "      <td>Female</td>\n",
       "      <td>...</td>\n",
       "      <td>3.0</td>\n",
       "      <td>Y</td>\n",
       "      <td>13</td>\n",
       "      <td>8</td>\n",
       "      <td>0</td>\n",
       "      <td>28.0</td>\n",
       "      <td>5</td>\n",
       "      <td>7</td>\n",
       "      <td>7</td>\n",
       "      <td>7</td>\n",
       "    </tr>\n",
       "    <tr>\n",
       "      <th>...</th>\n",
       "      <td>...</td>\n",
       "      <td>...</td>\n",
       "      <td>...</td>\n",
       "      <td>...</td>\n",
       "      <td>...</td>\n",
       "      <td>...</td>\n",
       "      <td>...</td>\n",
       "      <td>...</td>\n",
       "      <td>...</td>\n",
       "      <td>...</td>\n",
       "      <td>...</td>\n",
       "      <td>...</td>\n",
       "      <td>...</td>\n",
       "      <td>...</td>\n",
       "      <td>...</td>\n",
       "      <td>...</td>\n",
       "      <td>...</td>\n",
       "      <td>...</td>\n",
       "      <td>...</td>\n",
       "      <td>...</td>\n",
       "      <td>...</td>\n",
       "    </tr>\n",
       "    <tr>\n",
       "      <th>4405</th>\n",
       "      <td>29</td>\n",
       "      <td>1</td>\n",
       "      <td>Travel_Rarely</td>\n",
       "      <td>Research &amp; Development</td>\n",
       "      <td>7</td>\n",
       "      <td>1</td>\n",
       "      <td>Life Sciences</td>\n",
       "      <td>1</td>\n",
       "      <td>4382</td>\n",
       "      <td>Female</td>\n",
       "      <td>...</td>\n",
       "      <td>1.0</td>\n",
       "      <td>Y</td>\n",
       "      <td>21</td>\n",
       "      <td>8</td>\n",
       "      <td>0</td>\n",
       "      <td>4.0</td>\n",
       "      <td>2</td>\n",
       "      <td>4</td>\n",
       "      <td>0</td>\n",
       "      <td>1</td>\n",
       "    </tr>\n",
       "    <tr>\n",
       "      <th>4406</th>\n",
       "      <td>33</td>\n",
       "      <td>1</td>\n",
       "      <td>Travel_Rarely</td>\n",
       "      <td>Sales</td>\n",
       "      <td>11</td>\n",
       "      <td>4</td>\n",
       "      <td>Marketing</td>\n",
       "      <td>1</td>\n",
       "      <td>4387</td>\n",
       "      <td>Male</td>\n",
       "      <td>...</td>\n",
       "      <td>5.0</td>\n",
       "      <td>Y</td>\n",
       "      <td>21</td>\n",
       "      <td>8</td>\n",
       "      <td>0</td>\n",
       "      <td>8.0</td>\n",
       "      <td>2</td>\n",
       "      <td>5</td>\n",
       "      <td>0</td>\n",
       "      <td>4</td>\n",
       "    </tr>\n",
       "    <tr>\n",
       "      <th>4407</th>\n",
       "      <td>33</td>\n",
       "      <td>1</td>\n",
       "      <td>Travel_Rarely</td>\n",
       "      <td>Sales</td>\n",
       "      <td>1</td>\n",
       "      <td>3</td>\n",
       "      <td>Life Sciences</td>\n",
       "      <td>1</td>\n",
       "      <td>4389</td>\n",
       "      <td>Male</td>\n",
       "      <td>...</td>\n",
       "      <td>7.0</td>\n",
       "      <td>Y</td>\n",
       "      <td>11</td>\n",
       "      <td>8</td>\n",
       "      <td>0</td>\n",
       "      <td>13.0</td>\n",
       "      <td>2</td>\n",
       "      <td>9</td>\n",
       "      <td>1</td>\n",
       "      <td>7</td>\n",
       "    </tr>\n",
       "    <tr>\n",
       "      <th>4408</th>\n",
       "      <td>32</td>\n",
       "      <td>1</td>\n",
       "      <td>Travel_Rarely</td>\n",
       "      <td>Sales</td>\n",
       "      <td>23</td>\n",
       "      <td>1</td>\n",
       "      <td>Life Sciences</td>\n",
       "      <td>1</td>\n",
       "      <td>4392</td>\n",
       "      <td>Male</td>\n",
       "      <td>...</td>\n",
       "      <td>0.0</td>\n",
       "      <td>Y</td>\n",
       "      <td>11</td>\n",
       "      <td>8</td>\n",
       "      <td>0</td>\n",
       "      <td>4.0</td>\n",
       "      <td>2</td>\n",
       "      <td>3</td>\n",
       "      <td>1</td>\n",
       "      <td>2</td>\n",
       "    </tr>\n",
       "    <tr>\n",
       "      <th>4409</th>\n",
       "      <td>37</td>\n",
       "      <td>1</td>\n",
       "      <td>Travel_Frequently</td>\n",
       "      <td>Sales</td>\n",
       "      <td>2</td>\n",
       "      <td>3</td>\n",
       "      <td>Marketing</td>\n",
       "      <td>1</td>\n",
       "      <td>4403</td>\n",
       "      <td>Male</td>\n",
       "      <td>...</td>\n",
       "      <td>6.0</td>\n",
       "      <td>Y</td>\n",
       "      <td>11</td>\n",
       "      <td>8</td>\n",
       "      <td>1</td>\n",
       "      <td>17.0</td>\n",
       "      <td>2</td>\n",
       "      <td>1</td>\n",
       "      <td>0</td>\n",
       "      <td>0</td>\n",
       "    </tr>\n",
       "  </tbody>\n",
       "</table>\n",
       "<p>4410 rows × 24 columns</p>\n",
       "</div>"
      ],
      "text/plain": [
       "      Age  Attrition     BusinessTravel              Department  \\\n",
       "0      51          0      Travel_Rarely                   Sales   \n",
       "1      32          0  Travel_Frequently  Research & Development   \n",
       "2      38          0         Non-Travel  Research & Development   \n",
       "3      32          0      Travel_Rarely  Research & Development   \n",
       "4      46          0      Travel_Rarely  Research & Development   \n",
       "...   ...        ...                ...                     ...   \n",
       "4405   29          1      Travel_Rarely  Research & Development   \n",
       "4406   33          1      Travel_Rarely                   Sales   \n",
       "4407   33          1      Travel_Rarely                   Sales   \n",
       "4408   32          1      Travel_Rarely                   Sales   \n",
       "4409   37          1  Travel_Frequently                   Sales   \n",
       "\n",
       "      DistanceFromHome  Education EducationField  EmployeeCount  EmployeeID  \\\n",
       "0                    6          2  Life Sciences              1           1   \n",
       "1                   17          4          Other              1           3   \n",
       "2                    2          5  Life Sciences              1           4   \n",
       "3                   10          1        Medical              1           5   \n",
       "4                    8          3  Life Sciences              1           6   \n",
       "...                ...        ...            ...            ...         ...   \n",
       "4405                 7          1  Life Sciences              1        4382   \n",
       "4406                11          4      Marketing              1        4387   \n",
       "4407                 1          3  Life Sciences              1        4389   \n",
       "4408                23          1  Life Sciences              1        4392   \n",
       "4409                 2          3      Marketing              1        4403   \n",
       "\n",
       "      Gender  ...  NumCompaniesWorked Over18 PercentSalaryHike  StandardHours  \\\n",
       "0     Female  ...                 1.0      Y                11              8   \n",
       "1       Male  ...                 1.0      Y                15              8   \n",
       "2       Male  ...                 3.0      Y                11              8   \n",
       "3       Male  ...                 4.0      Y                12              8   \n",
       "4     Female  ...                 3.0      Y                13              8   \n",
       "...      ...  ...                 ...    ...               ...            ...   \n",
       "4405  Female  ...                 1.0      Y                21              8   \n",
       "4406    Male  ...                 5.0      Y                21              8   \n",
       "4407    Male  ...                 7.0      Y                11              8   \n",
       "4408    Male  ...                 0.0      Y                11              8   \n",
       "4409    Male  ...                 6.0      Y                11              8   \n",
       "\n",
       "      StockOptionLevel TotalWorkingYears  TrainingTimesLastYear  \\\n",
       "0                    0               1.0                      6   \n",
       "1                    3               5.0                      2   \n",
       "2                    3              13.0                      5   \n",
       "3                    2               9.0                      2   \n",
       "4                    0              28.0                      5   \n",
       "...                ...               ...                    ...   \n",
       "4405                 0               4.0                      2   \n",
       "4406                 0               8.0                      2   \n",
       "4407                 0              13.0                      2   \n",
       "4408                 0               4.0                      2   \n",
       "4409                 1              17.0                      2   \n",
       "\n",
       "      YearsAtCompany  YearsSinceLastPromotion  YearsWithCurrManager  \n",
       "0                  1                        0                     0  \n",
       "1                  5                        0                     3  \n",
       "2                  8                        7                     5  \n",
       "3                  6                        0                     4  \n",
       "4                  7                        7                     7  \n",
       "...              ...                      ...                   ...  \n",
       "4405               4                        0                     1  \n",
       "4406               5                        0                     4  \n",
       "4407               9                        1                     7  \n",
       "4408               3                        1                     2  \n",
       "4409               1                        0                     0  \n",
       "\n",
       "[4410 rows x 24 columns]"
      ]
     },
     "execution_count": 5,
     "metadata": {},
     "output_type": "execute_result"
    }
   ],
   "source": [
    "dataset.drop_duplicates()"
   ]
  },
  {
   "cell_type": "code",
   "execution_count": 6,
   "metadata": {},
   "outputs": [
    {
     "data": {
      "text/html": [
       "<div>\n",
       "<style scoped>\n",
       "    .dataframe tbody tr th:only-of-type {\n",
       "        vertical-align: middle;\n",
       "    }\n",
       "\n",
       "    .dataframe tbody tr th {\n",
       "        vertical-align: top;\n",
       "    }\n",
       "\n",
       "    .dataframe thead th {\n",
       "        text-align: right;\n",
       "    }\n",
       "</style>\n",
       "<table border=\"1\" class=\"dataframe\">\n",
       "  <thead>\n",
       "    <tr style=\"text-align: right;\">\n",
       "      <th></th>\n",
       "      <th>Age</th>\n",
       "      <th>Attrition</th>\n",
       "      <th>DistanceFromHome</th>\n",
       "      <th>Education</th>\n",
       "      <th>EmployeeCount</th>\n",
       "      <th>EmployeeID</th>\n",
       "      <th>JobLevel</th>\n",
       "      <th>MonthlyIncome</th>\n",
       "      <th>NumCompaniesWorked</th>\n",
       "      <th>PercentSalaryHike</th>\n",
       "      <th>StandardHours</th>\n",
       "      <th>StockOptionLevel</th>\n",
       "      <th>TotalWorkingYears</th>\n",
       "      <th>TrainingTimesLastYear</th>\n",
       "      <th>YearsAtCompany</th>\n",
       "      <th>YearsSinceLastPromotion</th>\n",
       "      <th>YearsWithCurrManager</th>\n",
       "    </tr>\n",
       "  </thead>\n",
       "  <tbody>\n",
       "    <tr>\n",
       "      <th>count</th>\n",
       "      <td>4410.000000</td>\n",
       "      <td>4410.000000</td>\n",
       "      <td>4410.000000</td>\n",
       "      <td>4410.000000</td>\n",
       "      <td>4410.0</td>\n",
       "      <td>4410.000000</td>\n",
       "      <td>4410.000000</td>\n",
       "      <td>4410.000000</td>\n",
       "      <td>4391.000000</td>\n",
       "      <td>4410.000000</td>\n",
       "      <td>4410.0</td>\n",
       "      <td>4410.000000</td>\n",
       "      <td>4401.000000</td>\n",
       "      <td>4410.000000</td>\n",
       "      <td>4410.000000</td>\n",
       "      <td>4410.000000</td>\n",
       "      <td>4410.000000</td>\n",
       "    </tr>\n",
       "    <tr>\n",
       "      <th>mean</th>\n",
       "      <td>36.923810</td>\n",
       "      <td>0.161224</td>\n",
       "      <td>9.192517</td>\n",
       "      <td>2.912925</td>\n",
       "      <td>1.0</td>\n",
       "      <td>2205.500000</td>\n",
       "      <td>2.063946</td>\n",
       "      <td>65029.312925</td>\n",
       "      <td>2.694830</td>\n",
       "      <td>15.209524</td>\n",
       "      <td>8.0</td>\n",
       "      <td>0.793878</td>\n",
       "      <td>11.279936</td>\n",
       "      <td>2.799320</td>\n",
       "      <td>7.008163</td>\n",
       "      <td>2.187755</td>\n",
       "      <td>4.123129</td>\n",
       "    </tr>\n",
       "    <tr>\n",
       "      <th>std</th>\n",
       "      <td>9.133301</td>\n",
       "      <td>0.367780</td>\n",
       "      <td>8.105026</td>\n",
       "      <td>1.023933</td>\n",
       "      <td>0.0</td>\n",
       "      <td>1273.201673</td>\n",
       "      <td>1.106689</td>\n",
       "      <td>47068.888559</td>\n",
       "      <td>2.498887</td>\n",
       "      <td>3.659108</td>\n",
       "      <td>0.0</td>\n",
       "      <td>0.851883</td>\n",
       "      <td>7.782222</td>\n",
       "      <td>1.288978</td>\n",
       "      <td>6.125135</td>\n",
       "      <td>3.221699</td>\n",
       "      <td>3.567327</td>\n",
       "    </tr>\n",
       "    <tr>\n",
       "      <th>min</th>\n",
       "      <td>18.000000</td>\n",
       "      <td>0.000000</td>\n",
       "      <td>1.000000</td>\n",
       "      <td>1.000000</td>\n",
       "      <td>1.0</td>\n",
       "      <td>1.000000</td>\n",
       "      <td>1.000000</td>\n",
       "      <td>10090.000000</td>\n",
       "      <td>0.000000</td>\n",
       "      <td>11.000000</td>\n",
       "      <td>8.0</td>\n",
       "      <td>0.000000</td>\n",
       "      <td>0.000000</td>\n",
       "      <td>0.000000</td>\n",
       "      <td>0.000000</td>\n",
       "      <td>0.000000</td>\n",
       "      <td>0.000000</td>\n",
       "    </tr>\n",
       "    <tr>\n",
       "      <th>25%</th>\n",
       "      <td>30.000000</td>\n",
       "      <td>0.000000</td>\n",
       "      <td>2.000000</td>\n",
       "      <td>2.000000</td>\n",
       "      <td>1.0</td>\n",
       "      <td>1103.250000</td>\n",
       "      <td>1.000000</td>\n",
       "      <td>29110.000000</td>\n",
       "      <td>1.000000</td>\n",
       "      <td>12.000000</td>\n",
       "      <td>8.0</td>\n",
       "      <td>0.000000</td>\n",
       "      <td>6.000000</td>\n",
       "      <td>2.000000</td>\n",
       "      <td>3.000000</td>\n",
       "      <td>0.000000</td>\n",
       "      <td>2.000000</td>\n",
       "    </tr>\n",
       "    <tr>\n",
       "      <th>50%</th>\n",
       "      <td>36.000000</td>\n",
       "      <td>0.000000</td>\n",
       "      <td>7.000000</td>\n",
       "      <td>3.000000</td>\n",
       "      <td>1.0</td>\n",
       "      <td>2205.500000</td>\n",
       "      <td>2.000000</td>\n",
       "      <td>49190.000000</td>\n",
       "      <td>2.000000</td>\n",
       "      <td>14.000000</td>\n",
       "      <td>8.0</td>\n",
       "      <td>1.000000</td>\n",
       "      <td>10.000000</td>\n",
       "      <td>3.000000</td>\n",
       "      <td>5.000000</td>\n",
       "      <td>1.000000</td>\n",
       "      <td>3.000000</td>\n",
       "    </tr>\n",
       "    <tr>\n",
       "      <th>75%</th>\n",
       "      <td>43.000000</td>\n",
       "      <td>0.000000</td>\n",
       "      <td>14.000000</td>\n",
       "      <td>4.000000</td>\n",
       "      <td>1.0</td>\n",
       "      <td>3307.750000</td>\n",
       "      <td>3.000000</td>\n",
       "      <td>83800.000000</td>\n",
       "      <td>4.000000</td>\n",
       "      <td>18.000000</td>\n",
       "      <td>8.0</td>\n",
       "      <td>1.000000</td>\n",
       "      <td>15.000000</td>\n",
       "      <td>3.000000</td>\n",
       "      <td>9.000000</td>\n",
       "      <td>3.000000</td>\n",
       "      <td>7.000000</td>\n",
       "    </tr>\n",
       "    <tr>\n",
       "      <th>max</th>\n",
       "      <td>60.000000</td>\n",
       "      <td>1.000000</td>\n",
       "      <td>29.000000</td>\n",
       "      <td>5.000000</td>\n",
       "      <td>1.0</td>\n",
       "      <td>4410.000000</td>\n",
       "      <td>5.000000</td>\n",
       "      <td>199990.000000</td>\n",
       "      <td>9.000000</td>\n",
       "      <td>25.000000</td>\n",
       "      <td>8.0</td>\n",
       "      <td>3.000000</td>\n",
       "      <td>40.000000</td>\n",
       "      <td>6.000000</td>\n",
       "      <td>40.000000</td>\n",
       "      <td>15.000000</td>\n",
       "      <td>17.000000</td>\n",
       "    </tr>\n",
       "  </tbody>\n",
       "</table>\n",
       "</div>"
      ],
      "text/plain": [
       "               Age    Attrition  DistanceFromHome    Education  EmployeeCount  \\\n",
       "count  4410.000000  4410.000000       4410.000000  4410.000000         4410.0   \n",
       "mean     36.923810     0.161224          9.192517     2.912925            1.0   \n",
       "std       9.133301     0.367780          8.105026     1.023933            0.0   \n",
       "min      18.000000     0.000000          1.000000     1.000000            1.0   \n",
       "25%      30.000000     0.000000          2.000000     2.000000            1.0   \n",
       "50%      36.000000     0.000000          7.000000     3.000000            1.0   \n",
       "75%      43.000000     0.000000         14.000000     4.000000            1.0   \n",
       "max      60.000000     1.000000         29.000000     5.000000            1.0   \n",
       "\n",
       "        EmployeeID     JobLevel  MonthlyIncome  NumCompaniesWorked  \\\n",
       "count  4410.000000  4410.000000    4410.000000         4391.000000   \n",
       "mean   2205.500000     2.063946   65029.312925            2.694830   \n",
       "std    1273.201673     1.106689   47068.888559            2.498887   \n",
       "min       1.000000     1.000000   10090.000000            0.000000   \n",
       "25%    1103.250000     1.000000   29110.000000            1.000000   \n",
       "50%    2205.500000     2.000000   49190.000000            2.000000   \n",
       "75%    3307.750000     3.000000   83800.000000            4.000000   \n",
       "max    4410.000000     5.000000  199990.000000            9.000000   \n",
       "\n",
       "       PercentSalaryHike  StandardHours  StockOptionLevel  TotalWorkingYears  \\\n",
       "count        4410.000000         4410.0       4410.000000        4401.000000   \n",
       "mean           15.209524            8.0          0.793878          11.279936   \n",
       "std             3.659108            0.0          0.851883           7.782222   \n",
       "min            11.000000            8.0          0.000000           0.000000   \n",
       "25%            12.000000            8.0          0.000000           6.000000   \n",
       "50%            14.000000            8.0          1.000000          10.000000   \n",
       "75%            18.000000            8.0          1.000000          15.000000   \n",
       "max            25.000000            8.0          3.000000          40.000000   \n",
       "\n",
       "       TrainingTimesLastYear  YearsAtCompany  YearsSinceLastPromotion  \\\n",
       "count            4410.000000     4410.000000              4410.000000   \n",
       "mean                2.799320        7.008163                 2.187755   \n",
       "std                 1.288978        6.125135                 3.221699   \n",
       "min                 0.000000        0.000000                 0.000000   \n",
       "25%                 2.000000        3.000000                 0.000000   \n",
       "50%                 3.000000        5.000000                 1.000000   \n",
       "75%                 3.000000        9.000000                 3.000000   \n",
       "max                 6.000000       40.000000                15.000000   \n",
       "\n",
       "       YearsWithCurrManager  \n",
       "count           4410.000000  \n",
       "mean               4.123129  \n",
       "std                3.567327  \n",
       "min                0.000000  \n",
       "25%                2.000000  \n",
       "50%                3.000000  \n",
       "75%                7.000000  \n",
       "max               17.000000  "
      ]
     },
     "execution_count": 6,
     "metadata": {},
     "output_type": "execute_result"
    }
   ],
   "source": [
    "dataset.describe()"
   ]
  },
  {
   "cell_type": "markdown",
   "metadata": {},
   "source": [
    "## Descriptive statistic Analysis"
   ]
  },
  {
   "cell_type": "code",
   "execution_count": 16,
   "metadata": {},
   "outputs": [
    {
     "name": "stdout",
     "output_type": "stream",
     "text": [
      "Median of the data\n"
     ]
    },
    {
     "data": {
      "text/plain": [
       "Age                     36.0\n",
       "DistanceFromHome         7.0\n",
       "Education                3.0\n",
       "JobLevel                 2.0\n",
       "MonthlyIncome        49190.0\n",
       "PercentSalaryHike       14.0\n",
       "TotalWorkingYears       10.0\n",
       "YearsAtCompany           5.0\n",
       "dtype: float64"
      ]
     },
     "execution_count": 16,
     "metadata": {},
     "output_type": "execute_result"
    }
   ],
   "source": [
    "dataset1= dataset[['Age','DistanceFromHome','Education','JobLevel','MonthlyIncome','PercentSalaryHike','TotalWorkingYears','YearsAtCompany']].median()\n",
    "print(\"Median of the data\")\n",
    "dataset1"
   ]
  },
  {
   "cell_type": "code",
   "execution_count": 9,
   "metadata": {},
   "outputs": [
    {
     "data": {
      "text/plain": [
       "Age                     36.923810\n",
       "DistanceFromHome         9.192517\n",
       "Education                2.912925\n",
       "JobLevel                 2.063946\n",
       "MonthlyIncome        65029.312925\n",
       "PercentSalaryHike       15.209524\n",
       "TotalWorkingYears       11.279936\n",
       "YearsAtCompany           7.008163\n",
       "dtype: float64"
      ]
     },
     "execution_count": 9,
     "metadata": {},
     "output_type": "execute_result"
    }
   ],
   "source": [
    "dataset2= dataset[['Age','DistanceFromHome','Education','JobLevel','MonthlyIncome','PercentSalaryHike','TotalWorkingYears','YearsAtCompany']].mean()\n",
    "print(\"Mean of the data\")\n",
    "dataset2"
   ]
  },
  {
   "cell_type": "code",
   "execution_count": 15,
   "metadata": {},
   "outputs": [
    {
     "name": "stdout",
     "output_type": "stream",
     "text": [
      "Mode of the data is\n"
     ]
    },
    {
     "data": {
      "text/html": [
       "<div>\n",
       "<style scoped>\n",
       "    .dataframe tbody tr th:only-of-type {\n",
       "        vertical-align: middle;\n",
       "    }\n",
       "\n",
       "    .dataframe tbody tr th {\n",
       "        vertical-align: top;\n",
       "    }\n",
       "\n",
       "    .dataframe thead th {\n",
       "        text-align: right;\n",
       "    }\n",
       "</style>\n",
       "<table border=\"1\" class=\"dataframe\">\n",
       "  <thead>\n",
       "    <tr style=\"text-align: right;\">\n",
       "      <th></th>\n",
       "      <th>Age</th>\n",
       "      <th>DistanceFromHome</th>\n",
       "      <th>Education</th>\n",
       "      <th>JobLevel</th>\n",
       "      <th>MonthlyIncome</th>\n",
       "      <th>PercentSalaryHike</th>\n",
       "      <th>TotalWorkingYears</th>\n",
       "      <th>YearsAtCompany</th>\n",
       "    </tr>\n",
       "  </thead>\n",
       "  <tbody>\n",
       "    <tr>\n",
       "      <th>0</th>\n",
       "      <td>35</td>\n",
       "      <td>2</td>\n",
       "      <td>3</td>\n",
       "      <td>1</td>\n",
       "      <td>23420</td>\n",
       "      <td>11</td>\n",
       "      <td>10.0</td>\n",
       "      <td>5</td>\n",
       "    </tr>\n",
       "  </tbody>\n",
       "</table>\n",
       "</div>"
      ],
      "text/plain": [
       "   Age  DistanceFromHome  Education  JobLevel  MonthlyIncome  \\\n",
       "0   35                 2          3         1          23420   \n",
       "\n",
       "   PercentSalaryHike  TotalWorkingYears  YearsAtCompany  \n",
       "0                 11               10.0               5  "
      ]
     },
     "execution_count": 15,
     "metadata": {},
     "output_type": "execute_result"
    }
   ],
   "source": [
    "dataset3= dataset[['Age','DistanceFromHome','Education','JobLevel','MonthlyIncome','PercentSalaryHike','TotalWorkingYears','YearsAtCompany']].mode()\n",
    "print(\"Mode of the data is\")\n",
    "dataset3"
   ]
  },
  {
   "cell_type": "code",
   "execution_count": 14,
   "metadata": {},
   "outputs": [
    {
     "name": "stdout",
     "output_type": "stream",
     "text": [
      "Standard deviation of the data is\n"
     ]
    },
    {
     "data": {
      "text/plain": [
       "Age                      9.133301\n",
       "DistanceFromHome         8.105026\n",
       "Education                1.023933\n",
       "JobLevel                 1.106689\n",
       "MonthlyIncome        47068.888559\n",
       "PercentSalaryHike        3.659108\n",
       "TotalWorkingYears        7.782222\n",
       "YearsAtCompany           6.125135\n",
       "dtype: float64"
      ]
     },
     "execution_count": 14,
     "metadata": {},
     "output_type": "execute_result"
    }
   ],
   "source": [
    "dataset4= dataset[['Age','DistanceFromHome','Education','JobLevel','MonthlyIncome','PercentSalaryHike','TotalWorkingYears','YearsAtCompany']].std()\n",
    "print(\"Standard deviation of the data is\")\n",
    "dataset4\n"
   ]
  },
  {
   "cell_type": "code",
   "execution_count": 13,
   "metadata": {},
   "outputs": [
    {
     "name": "stdout",
     "output_type": "stream",
     "text": [
      "Variance of the Data is\n"
     ]
    },
    {
     "data": {
      "text/plain": [
       "Age                  8.341719e+01\n",
       "DistanceFromHome     6.569144e+01\n",
       "Education            1.048438e+00\n",
       "JobLevel             1.224760e+00\n",
       "MonthlyIncome        2.215480e+09\n",
       "PercentSalaryHike    1.338907e+01\n",
       "TotalWorkingYears    6.056298e+01\n",
       "YearsAtCompany       3.751728e+01\n",
       "dtype: float64"
      ]
     },
     "execution_count": 13,
     "metadata": {},
     "output_type": "execute_result"
    }
   ],
   "source": [
    "dataset5= dataset[['Age','DistanceFromHome','Education','JobLevel','MonthlyIncome','PercentSalaryHike','TotalWorkingYears','YearsAtCompany']].var()\n",
    "print(\"Variance of the Data is\")\n",
    "dataset5"
   ]
  },
  {
   "cell_type": "code",
   "execution_count": 17,
   "metadata": {},
   "outputs": [
    {
     "name": "stdout",
     "output_type": "stream",
     "text": [
      "measrure of skewness\n"
     ]
    },
    {
     "data": {
      "text/plain": [
       "Age                  0.413005\n",
       "DistanceFromHome     0.957466\n",
       "Education           -0.289484\n",
       "JobLevel             1.024703\n",
       "MonthlyIncome        1.368884\n",
       "PercentSalaryHike    0.820569\n",
       "TotalWorkingYears    1.116832\n",
       "YearsAtCompany       1.763328\n",
       "dtype: float64"
      ]
     },
     "execution_count": 17,
     "metadata": {},
     "output_type": "execute_result"
    }
   ],
   "source": [
    "dataset6= dataset[['Age','DistanceFromHome','Education','JobLevel','MonthlyIncome','PercentSalaryHike','TotalWorkingYears','YearsAtCompany']].skew()\n",
    "print(\"measrure of skewness\")\n",
    "dataset6"
   ]
  },
  {
   "cell_type": "code",
   "execution_count": 19,
   "metadata": {},
   "outputs": [
    {
     "name": "stdout",
     "output_type": "stream",
     "text": [
      "measrure of peakness\n"
     ]
    },
    {
     "data": {
      "text/plain": [
       "Age                 -0.405951\n",
       "DistanceFromHome    -0.227045\n",
       "Education           -0.560569\n",
       "JobLevel             0.395525\n",
       "MonthlyIncome        1.000232\n",
       "PercentSalaryHike   -0.302638\n",
       "TotalWorkingYears    0.912936\n",
       "YearsAtCompany       3.923864\n",
       "dtype: float64"
      ]
     },
     "execution_count": 19,
     "metadata": {},
     "output_type": "execute_result"
    }
   ],
   "source": [
    "dataset7= dataset[['Age','DistanceFromHome','Education','JobLevel','MonthlyIncome','PercentSalaryHike','TotalWorkingYears','YearsAtCompany']].kurt()\n",
    "print(\"measrure of peakness\")\n",
    "dataset7"
   ]
  },
  {
   "cell_type": "markdown",
   "metadata": {},
   "source": [
    "## Visualization"
   ]
  },
  {
   "cell_type": "code",
   "execution_count": 24,
   "metadata": {},
   "outputs": [
    {
     "data": {
      "text/plain": [
       "{'whiskers': [<matplotlib.lines.Line2D at 0x16b317efa48>,\n",
       "  <matplotlib.lines.Line2D at 0x16b317effc8>],\n",
       " 'caps': [<matplotlib.lines.Line2D at 0x16b317eff48>,\n",
       "  <matplotlib.lines.Line2D at 0x16b317f5ac8>],\n",
       " 'boxes': [<matplotlib.lines.Line2D at 0x16b317ef2c8>],\n",
       " 'medians': [<matplotlib.lines.Line2D at 0x16b317f5fc8>],\n",
       " 'fliers': [<matplotlib.lines.Line2D at 0x16b317f5c48>],\n",
       " 'means': []}"
      ]
     },
     "execution_count": 24,
     "metadata": {},
     "output_type": "execute_result"
    },
    {
     "data": {
      "image/png": "[encoded data removed]",
      "text/plain": [
       "<Figure size 432x288 with 1 Axes>"
      ]
     },
     "metadata": {
      "needs_background": "light"
     },
     "output_type": "display_data"
    }
   ],
   "source": [
    "plt.boxplot(dataset.Age)"
   ]
  },
  {
   "cell_type": "code",
   "execution_count": 26,
   "metadata": {},
   "outputs": [
    {
     "data": {
      "text/plain": [
       "<matplotlib.collections.PathCollection at 0x16b30e2cd88>"
      ]
     },
     "execution_count": 26,
     "metadata": {},
     "output_type": "execute_result"
    },
    {
     "data": {
      "image/png": "[encoded data removed]",
      "text/plain": [
       "<Figure size 432x288 with 1 Axes>"
      ]
     },
     "metadata": {
      "needs_background": "light"
     },
     "output_type": "display_data"
    }
   ],
   "source": [
    "plt.scatter(dataset.Age,dataset.MonthlyIncome)"
   ]
  },
  {
   "cell_type": "code",
   "execution_count": 29,
   "metadata": {},
   "outputs": [
    {
     "data": {
      "text/plain": [
       "<matplotlib.collections.PathCollection at 0x16b328b5088>"
      ]
     },
     "execution_count": 29,
     "metadata": {},
     "output_type": "execute_result"
    },
    {
     "data": {
      "image/png": "[encoded data removed]",
      "text/plain": [
       "<Figure size 432x288 with 1 Axes>"
      ]
     },
     "metadata": {
      "needs_background": "light"
     },
     "output_type": "display_data"
    }
   ],
   "source": [
    "plt.scatter(dataset.DistanceFromHome,dataset.MonthlyIncome)"
   ]
  },
  {
   "cell_type": "code",
   "execution_count": 30,
   "metadata": {},
   "outputs": [
    {
     "data": {
      "text/plain": [
       "(array([1095., 1047.,  870.,  327.,  330.,  168.,  156.,   54.,  162.,\n",
       "         201.]),\n",
       " array([ 10090.,  29080.,  48070.,  67060.,  86050., 105040., 124030.,\n",
       "        143020., 162010., 181000., 199990.]),\n",
       " <a list of 10 Patch objects>)"
      ]
     },
     "execution_count": 30,
     "metadata": {},
     "output_type": "execute_result"
    },
    {
     "data": {
      "image/png": "[encoded data removed]",
      "text/plain": [
       "<Figure size 432x288 with 1 Axes>"
      ]
     },
     "metadata": {
      "needs_background": "light"
     },
     "output_type": "display_data"
    }
   ],
   "source": [
    "plt.hist(dataset.MonthlyIncome)"
   ]
  },
  {
   "cell_type": "code",
   "execution_count": 31,
   "metadata": {},
   "outputs": [
    {
     "data": {
      "text/plain": [
       "(array([1224.,  627.,  906.,  234.,  246.,  495.,  165.,  312.,   84.,\n",
       "         117.]),\n",
       " array([11. , 12.4, 13.8, 15.2, 16.6, 18. , 19.4, 20.8, 22.2, 23.6, 25. ]),\n",
       " <a list of 10 Patch objects>)"
      ]
     },
     "execution_count": 31,
     "metadata": {},
     "output_type": "execute_result"
    },
    {
     "data": {
      "image/png": "[encoded data removed]",
      "text/plain": [
       "<Figure size 432x288 with 1 Axes>"
      ]
     },
     "metadata": {
      "needs_background": "light"
     },
     "output_type": "display_data"
    }
   ],
   "source": [
    "plt.hist(dataset.PercentSalaryHike)"
   ]
  },
  {
   "cell_type": "code",
   "execution_count": 34,
   "metadata": {},
   "outputs": [
    {
     "data": {
      "text/plain": [
       "<matplotlib.collections.PathCollection at 0x16b32a3b148>"
      ]
     },
     "execution_count": 34,
     "metadata": {},
     "output_type": "execute_result"
    },
    {
     "data": {
      "image/png": "[encoded data removed]",
      "text/plain": [
       "<Figure size 432x288 with 1 Axes>"
      ]
     },
     "metadata": {
      "needs_background": "light"
     },
     "output_type": "display_data"
    }
   ],
   "source": [
    "plt.scatter(dataset.Age,dataset.PercentSalaryHike)"
   ]
  },
  {
   "cell_type": "code",
   "execution_count": 38,
   "metadata": {},
   "outputs": [
    {
     "data": {
      "text/plain": [
       "{'whiskers': [<matplotlib.lines.Line2D at 0x16b32b1ac48>,\n",
       "  <matplotlib.lines.Line2D at 0x16b32b1ad48>],\n",
       " 'caps': [<matplotlib.lines.Line2D at 0x16b32b1adc8>,\n",
       "  <matplotlib.lines.Line2D at 0x16b32b20cc8>],\n",
       " 'boxes': [<matplotlib.lines.Line2D at 0x16b32b1a4c8>],\n",
       " 'medians': [<matplotlib.lines.Line2D at 0x16b32b20dc8>],\n",
       " 'fliers': [<matplotlib.lines.Line2D at 0x16b32b20e48>],\n",
       " 'means': []}"
      ]
     },
     "execution_count": 38,
     "metadata": {},
     "output_type": "execute_result"
    },
    {
     "data": {
      "image/png": "[encoded data removed]",
      "text/plain": [
       "<Figure size 432x288 with 1 Axes>"
      ]
     },
     "metadata": {
      "needs_background": "light"
     },
     "output_type": "display_data"
    }
   ],
   "source": [
    "plt.boxplot(dataset.MonthlyIncome)"
   ]
  },
  {
   "cell_type": "code",
   "execution_count": 39,
   "metadata": {},
   "outputs": [
    {
     "data": {
      "text/plain": [
       "{'whiskers': [<matplotlib.lines.Line2D at 0x16b32b83f08>,\n",
       "  <matplotlib.lines.Line2D at 0x16b32b83e88>],\n",
       " 'caps': [<matplotlib.lines.Line2D at 0x16b32b87a48>,\n",
       "  <matplotlib.lines.Line2D at 0x16b32b87f88>],\n",
       " 'boxes': [<matplotlib.lines.Line2D at 0x16b32b83788>],\n",
       " 'medians': [<matplotlib.lines.Line2D at 0x16b32b87f08>],\n",
       " 'fliers': [<matplotlib.lines.Line2D at 0x16b32b8da88>],\n",
       " 'means': []}"
      ]
     },
     "execution_count": 39,
     "metadata": {},
     "output_type": "execute_result"
    },
    {
     "data": {
      "image/png": "[encoded data removed]",
      "text/plain": [
       "<Figure size 432x288 with 1 Axes>"
      ]
     },
     "metadata": {
      "needs_background": "light"
     },
     "output_type": "display_data"
    }
   ],
   "source": [
    "plt.boxplot(dataset.YearsAtCompany)"
   ]
  },
  {
   "cell_type": "code",
   "execution_count": 35,
   "metadata": {},
   "outputs": [
    {
     "name": "stdout",
     "output_type": "stream",
     "text": [
      "<class 'pandas.core.frame.DataFrame'>\n",
      "RangeIndex: 4410 entries, 0 to 4409\n",
      "Data columns (total 24 columns):\n",
      " #   Column                   Non-Null Count  Dtype  \n",
      "---  ------                   --------------  -----  \n",
      " 0   Age                      4410 non-null   int64  \n",
      " 1   Attrition                4410 non-null   int64  \n",
      " 2   BusinessTravel           4410 non-null   object \n",
      " 3   Department               4410 non-null   object \n",
      " 4   DistanceFromHome         4410 non-null   int64  \n",
      " 5   Education                4410 non-null   int64  \n",
      " 6   EducationField           4410 non-null   object \n",
      " 7   EmployeeCount            4410 non-null   int64  \n",
      " 8   EmployeeID               4410 non-null   int64  \n",
      " 9   Gender                   4410 non-null   object \n",
      " 10  JobLevel                 4410 non-null   int64  \n",
      " 11  JobRole                  4410 non-null   object \n",
      " 12  MaritalStatus            4410 non-null   object \n",
      " 13  MonthlyIncome            4410 non-null   int64  \n",
      " 14  NumCompaniesWorked       4391 non-null   float64\n",
      " 15  Over18                   4410 non-null   object \n",
      " 16  PercentSalaryHike        4410 non-null   int64  \n",
      " 17  StandardHours            4410 non-null   int64  \n",
      " 18  StockOptionLevel         4410 non-null   int64  \n",
      " 19  TotalWorkingYears        4401 non-null   float64\n",
      " 20  TrainingTimesLastYear    4410 non-null   int64  \n",
      " 21  YearsAtCompany           4410 non-null   int64  \n",
      " 22  YearsSinceLastPromotion  4410 non-null   int64  \n",
      " 23  YearsWithCurrManager     4410 non-null   int64  \n",
      "dtypes: float64(2), int64(15), object(7)\n",
      "memory usage: 827.0+ KB\n"
     ]
    }
   ],
   "source": [
    "dataset.info()"
   ]
  },
  {
   "cell_type": "code",
   "execution_count": 40,
   "metadata": {},
   "outputs": [
    {
     "data": {
      "text/html": [
       "<div>\n",
       "<style scoped>\n",
       "    .dataframe tbody tr th:only-of-type {\n",
       "        vertical-align: middle;\n",
       "    }\n",
       "\n",
       "    .dataframe tbody tr th {\n",
       "        vertical-align: top;\n",
       "    }\n",
       "\n",
       "    .dataframe thead th {\n",
       "        text-align: right;\n",
       "    }\n",
       "</style>\n",
       "<table border=\"1\" class=\"dataframe\">\n",
       "  <thead>\n",
       "    <tr style=\"text-align: right;\">\n",
       "      <th>JobRole</th>\n",
       "      <th>Healthcare Representative</th>\n",
       "      <th>Human Resources</th>\n",
       "      <th>Laboratory Technician</th>\n",
       "      <th>Manager</th>\n",
       "      <th>Manufacturing Director</th>\n",
       "      <th>Research Director</th>\n",
       "      <th>Research Scientist</th>\n",
       "      <th>Sales Executive</th>\n",
       "      <th>Sales Representative</th>\n",
       "    </tr>\n",
       "    <tr>\n",
       "      <th>Gender</th>\n",
       "      <th></th>\n",
       "      <th></th>\n",
       "      <th></th>\n",
       "      <th></th>\n",
       "      <th></th>\n",
       "      <th></th>\n",
       "      <th></th>\n",
       "      <th></th>\n",
       "      <th></th>\n",
       "    </tr>\n",
       "  </thead>\n",
       "  <tbody>\n",
       "    <tr>\n",
       "      <th>Female</th>\n",
       "      <td>159</td>\n",
       "      <td>60</td>\n",
       "      <td>300</td>\n",
       "      <td>147</td>\n",
       "      <td>177</td>\n",
       "      <td>96</td>\n",
       "      <td>324</td>\n",
       "      <td>396</td>\n",
       "      <td>105</td>\n",
       "    </tr>\n",
       "    <tr>\n",
       "      <th>Male</th>\n",
       "      <td>234</td>\n",
       "      <td>96</td>\n",
       "      <td>477</td>\n",
       "      <td>159</td>\n",
       "      <td>258</td>\n",
       "      <td>144</td>\n",
       "      <td>552</td>\n",
       "      <td>582</td>\n",
       "      <td>144</td>\n",
       "    </tr>\n",
       "  </tbody>\n",
       "</table>\n",
       "</div>"
      ],
      "text/plain": [
       "JobRole  Healthcare Representative  Human Resources  Laboratory Technician  \\\n",
       "Gender                                                                       \n",
       "Female                         159               60                    300   \n",
       "Male                           234               96                    477   \n",
       "\n",
       "JobRole  Manager  Manufacturing Director  Research Director  \\\n",
       "Gender                                                        \n",
       "Female       147                     177                 96   \n",
       "Male         159                     258                144   \n",
       "\n",
       "JobRole  Research Scientist  Sales Executive  Sales Representative  \n",
       "Gender                                                              \n",
       "Female                  324              396                   105  \n",
       "Male                    552              582                   144  "
      ]
     },
     "execution_count": 40,
     "metadata": {},
     "output_type": "execute_result"
    }
   ],
   "source": [
    "pd.crosstab(dataset['Gender'],dataset['JobRole'])"
   ]
  },
  {
   "cell_type": "code",
   "execution_count": 36,
   "metadata": {},
   "outputs": [
    {
     "data": {
      "text/html": [
       "<div>\n",
       "<style scoped>\n",
       "    .dataframe tbody tr th:only-of-type {\n",
       "        vertical-align: middle;\n",
       "    }\n",
       "\n",
       "    .dataframe tbody tr th {\n",
       "        vertical-align: top;\n",
       "    }\n",
       "\n",
       "    .dataframe thead th {\n",
       "        text-align: right;\n",
       "    }\n",
       "</style>\n",
       "<table border=\"1\" class=\"dataframe\">\n",
       "  <thead>\n",
       "    <tr style=\"text-align: right;\">\n",
       "      <th>EducationField</th>\n",
       "      <th>Human Resources</th>\n",
       "      <th>Life Sciences</th>\n",
       "      <th>Marketing</th>\n",
       "      <th>Medical</th>\n",
       "      <th>Other</th>\n",
       "      <th>Technical Degree</th>\n",
       "    </tr>\n",
       "    <tr>\n",
       "      <th>Gender</th>\n",
       "      <th></th>\n",
       "      <th></th>\n",
       "      <th></th>\n",
       "      <th></th>\n",
       "      <th></th>\n",
       "      <th></th>\n",
       "    </tr>\n",
       "  </thead>\n",
       "  <tbody>\n",
       "    <tr>\n",
       "      <th>Female</th>\n",
       "      <td>24</td>\n",
       "      <td>720</td>\n",
       "      <td>189</td>\n",
       "      <td>588</td>\n",
       "      <td>96</td>\n",
       "      <td>147</td>\n",
       "    </tr>\n",
       "    <tr>\n",
       "      <th>Male</th>\n",
       "      <td>57</td>\n",
       "      <td>1098</td>\n",
       "      <td>288</td>\n",
       "      <td>804</td>\n",
       "      <td>150</td>\n",
       "      <td>249</td>\n",
       "    </tr>\n",
       "  </tbody>\n",
       "</table>\n",
       "</div>"
      ],
      "text/plain": [
       "EducationField  Human Resources  Life Sciences  Marketing  Medical  Other  \\\n",
       "Gender                                                                      \n",
       "Female                       24            720        189      588     96   \n",
       "Male                         57           1098        288      804    150   \n",
       "\n",
       "EducationField  Technical Degree  \n",
       "Gender                            \n",
       "Female                       147  \n",
       "Male                         249  "
      ]
     },
     "execution_count": 36,
     "metadata": {},
     "output_type": "execute_result"
    }
   ],
   "source": [
    "pd.crosstab(dataset['Gender'],dataset['EducationField'])"
   ]
  },
  {
   "cell_type": "code",
   "execution_count": 52,
   "metadata": {},
   "outputs": [
    {
     "data": {
      "text/html": [
       "<div>\n",
       "<style scoped>\n",
       "    .dataframe tbody tr th:only-of-type {\n",
       "        vertical-align: middle;\n",
       "    }\n",
       "\n",
       "    .dataframe tbody tr th {\n",
       "        vertical-align: top;\n",
       "    }\n",
       "\n",
       "    .dataframe thead th {\n",
       "        text-align: right;\n",
       "    }\n",
       "</style>\n",
       "<table border=\"1\" class=\"dataframe\">\n",
       "  <thead>\n",
       "    <tr style=\"text-align: right;\">\n",
       "      <th>BusinessTravel</th>\n",
       "      <th>Non-Travel</th>\n",
       "      <th>Travel_Frequently</th>\n",
       "      <th>Travel_Rarely</th>\n",
       "    </tr>\n",
       "    <tr>\n",
       "      <th>Gender</th>\n",
       "      <th></th>\n",
       "      <th></th>\n",
       "      <th></th>\n",
       "    </tr>\n",
       "  </thead>\n",
       "  <tbody>\n",
       "    <tr>\n",
       "      <th>Female</th>\n",
       "      <td>153</td>\n",
       "      <td>330</td>\n",
       "      <td>1281</td>\n",
       "    </tr>\n",
       "    <tr>\n",
       "      <th>Male</th>\n",
       "      <td>297</td>\n",
       "      <td>501</td>\n",
       "      <td>1848</td>\n",
       "    </tr>\n",
       "  </tbody>\n",
       "</table>\n",
       "</div>"
      ],
      "text/plain": [
       "BusinessTravel  Non-Travel  Travel_Frequently  Travel_Rarely\n",
       "Gender                                                      \n",
       "Female                 153                330           1281\n",
       "Male                   297                501           1848"
      ]
     },
     "execution_count": 52,
     "metadata": {},
     "output_type": "execute_result"
    }
   ],
   "source": [
    "pd.crosstab(dataset['Gender'],dataset['BusinessTravel'])"
   ]
  },
  {
   "cell_type": "markdown",
   "metadata": {},
   "source": [
    "## Statistical Analysis\n",
    "### Correlation Analysis"
   ]
  },
  {
   "cell_type": "markdown",
   "metadata": {},
   "source": [
    "### Ho: There exist no dependency between Attrition and age \n",
    "### Ha: There exist dependency between Attrition and age "
   ]
  },
  {
   "cell_type": "code",
   "execution_count": 42,
   "metadata": {},
   "outputs": [
    {
     "name": "stdout",
     "output_type": "stream",
     "text": [
      "Correlation analysis bwtween Attrition and Age\n",
      "-0.15920500686577962 1.996801615886744e-26\n"
     ]
    }
   ],
   "source": [
    "from scipy.stats import pearsonr\n",
    "a1=dataset.Attrition\n",
    "a2=dataset.Age\n",
    "stat, p = pearsonr(a1,a2)\n",
    "print(\"Correlation analysis bwtween Attrition and Age\")\n",
    "print(stat, p)\n"
   ]
  },
  {
   "cell_type": "markdown",
   "metadata": {},
   "source": [
    "### Interpretation Attrition and age:\n",
    "#### As r = -0.159, there’s low negative correlation between Attrition and Age\n",
    "#### As we can see the value of p is 1.9968e-26 which is <0.05 hence, we accept alternative hypothesis, there exist siginificant correlation between attrition and age."
   ]
  },
  {
   "cell_type": "markdown",
   "metadata": {},
   "source": [
    "### Ho: There exist no dependency between Attrition and DistanceFromHome\n",
    "### Ha: There exist dependency between Attrition and DistanceFromHome"
   ]
  },
  {
   "cell_type": "code",
   "execution_count": 43,
   "metadata": {},
   "outputs": [
    {
     "name": "stdout",
     "output_type": "stream",
     "text": [
      "Correlation analysis bwtween Attrition and DistanceFromHome\n",
      "-0.009730141010179667 0.5182860428050771\n"
     ]
    }
   ],
   "source": [
    "b1=dataset.Attrition\n",
    "b2=dataset.DistanceFromHome\n",
    "stat, p = pearsonr(b1,b2)\n",
    "print(\"Correlation analysis bwtween Attrition and DistanceFromHome\")\n",
    "print(stat, p)"
   ]
  },
  {
   "cell_type": "markdown",
   "metadata": {},
   "source": [
    "### Interpretation Attrition and DistanceFromHome:\n",
    "#### As r = -0.009, there’s low negative correlation between Attrition and DistanceFromHome\n",
    "#### As we can see the value of p is 0.518 which is >0.05 hence, we accept the null hypothesis, there is no significance relation between attrition and DistanceFromHome."
   ]
  },
  {
   "cell_type": "markdown",
   "metadata": {},
   "source": [
    "### Ho: There exist no dependency between Attrition and Education\n",
    "### Ha: There exist dependency between Attrition and Education\n"
   ]
  },
  {
   "cell_type": "code",
   "execution_count": 44,
   "metadata": {},
   "outputs": [
    {
     "name": "stdout",
     "output_type": "stream",
     "text": [
      "Correlation analysis bwtween Attrition and Education\n",
      "-0.015111167710968702 0.3157293177119338\n"
     ]
    }
   ],
   "source": [
    "c1=dataset.Attrition\n",
    "c2=dataset.Education\n",
    "stat, p = pearsonr(c1,c2)\n",
    "print(\"Correlation analysis bwtween Attrition and Education\")\n",
    "print(stat, p)"
   ]
  },
  {
   "cell_type": "markdown",
   "metadata": {},
   "source": [
    "### Interpretation Attrition and Education:\n",
    "#### As r = -0.01511, there’s low negative correlation between Attrition and Education\n",
    "#### As we can see the value of p is 0.315 which is >0.05 hence, we accept the null hypothesis, there is no significance relation between attrition and Education.\n"
   ]
  },
  {
   "cell_type": "markdown",
   "metadata": {},
   "source": [
    "### Ho: There exist no dependency between Attrition and JobLevel\n",
    "### Ha: There exist dependency between Attrition and JobLevel\n"
   ]
  },
  {
   "cell_type": "code",
   "execution_count": 46,
   "metadata": {},
   "outputs": [
    {
     "name": "stdout",
     "output_type": "stream",
     "text": [
      "Correlation analysis bwtween Attrition and JobLevel\n",
      "-0.010289713287495027 0.49451717271828405\n"
     ]
    }
   ],
   "source": [
    "d1=dataset.Attrition\n",
    "d2=dataset.JobLevel\n",
    "stat, p = pearsonr(d1,d2)\n",
    "print(\"Correlation analysis bwtween Attrition and JobLevel\")\n",
    "print(stat, p)"
   ]
  },
  {
   "cell_type": "markdown",
   "metadata": {},
   "source": [
    "### Interpretation Attrition and JobLevel:\n",
    "#### As r = -0.0102, there’s low negative correlation between Attrition and JobLevel\n",
    "#### As we can see the value of p is 0.494 which is >0.05 hence, we accept the null hypothesis, there is no significance relation between attrition and JobLevel.\n"
   ]
  },
  {
   "cell_type": "markdown",
   "metadata": {},
   "source": [
    "### Ho: There exist no dependency between Attrition and MonthlyIncome\n",
    "### Ha: There exist dependency between Attrition and MonthlyIncome"
   ]
  },
  {
   "cell_type": "code",
   "execution_count": 47,
   "metadata": {},
   "outputs": [
    {
     "name": "stdout",
     "output_type": "stream",
     "text": [
      "Correlation analysis bwtween Attrition and MonthlyIncome\n",
      "-0.03117628169811501 0.03842748490600132\n"
     ]
    }
   ],
   "source": [
    "e1=dataset.Attrition\n",
    "e2=dataset.MonthlyIncome\n",
    "stat, p = pearsonr(e1,e2)\n",
    "print(\"Correlation analysis bwtween Attrition and MonthlyIncome\")\n",
    "print(stat, p)"
   ]
  },
  {
   "cell_type": "markdown",
   "metadata": {},
   "source": [
    "### Interpretation Attrition and  MonthlyIncome:\n",
    "#### As r = -0.0311, there’s low negative correlation between Attrition and MonthlyIncome\n",
    "#### As we can see the value of p is 0.038 which is <0.05 hence, we accept alternative hypothesis, there exist siginificant correlation between attrition and MonthlyIncome\n"
   ]
  },
  {
   "cell_type": "markdown",
   "metadata": {},
   "source": [
    "### Ho: There exist no dependency between Attrition and PercentSalaryHike\n",
    "### Ha: There exist dependency between Attrition and PercentSalaryHike"
   ]
  },
  {
   "cell_type": "code",
   "execution_count": 48,
   "metadata": {},
   "outputs": [
    {
     "name": "stdout",
     "output_type": "stream",
     "text": [
      "Correlation analysis bwtween Attrition and PercentSalaryHike\n",
      "0.03253259489105351 0.030743386433355353\n"
     ]
    }
   ],
   "source": [
    "f1=dataset.Attrition\n",
    "f2=dataset.PercentSalaryHike\n",
    "stat, p = pearsonr(f1,f2)\n",
    "print(\"Correlation analysis bwtween Attrition and PercentSalaryHike\")\n",
    "print(stat, p)"
   ]
  },
  {
   "cell_type": "markdown",
   "metadata": {},
   "source": [
    "### Interpretation Attrition and PercentSalaryHike:\n",
    "#### As r = 0.0325, there’s low positive correlation between Attrition and PercentSalaryHike\n",
    "#### As we can see the value of p is 0.0307 which is <0.05 hence, we accept alternative hypothesis, there exist siginificant correlation between attrition and PercentSalaryHike"
   ]
  },
  {
   "cell_type": "markdown",
   "metadata": {},
   "source": [
    "### Ho: There exist no dependency between Attrition and TrainingTimesLastYear\n",
    "### Ha: There exist dependency between Attrition and TrainingTimesLastYear"
   ]
  },
  {
   "cell_type": "code",
   "execution_count": 50,
   "metadata": {},
   "outputs": [
    {
     "name": "stdout",
     "output_type": "stream",
     "text": [
      "Correlation analysis bwtween Attrition and TrainingTimesLastYear\n",
      "-0.04943057624425504 0.0010247061915362814\n"
     ]
    }
   ],
   "source": [
    "g1=dataset.Attrition\n",
    "g2=dataset.TrainingTimesLastYear\n",
    "stat, p = pearsonr(g1,g2)\n",
    "print(\"Correlation analysis bwtween Attrition and TrainingTimesLastYear\")\n",
    "print(stat, p)"
   ]
  },
  {
   "cell_type": "markdown",
   "metadata": {},
   "source": [
    "### Interpretation Attrition and TrainingTimesLastYear:\n",
    "#### As r = -0.0494, there’s low negative correlation between Attrition and TrainingTimesLastYear\n",
    "#### As we can see the value of p is 0.001 which is <0.05 hence, we accept alternative hypothesis, there exist siginificant correlation between attrition and TrainingTimesLastYear"
   ]
  },
  {
   "cell_type": "markdown",
   "metadata": {},
   "source": [
    "### Ho: There exist no dependency between Attrition and YearsSinceLastPromotion\n",
    "### Ha: There exist dependency between Attrition and YearsSinceLastPromotion"
   ]
  },
  {
   "cell_type": "code",
   "execution_count": 51,
   "metadata": {},
   "outputs": [
    {
     "name": "stdout",
     "output_type": "stream",
     "text": [
      "Correlation analysis bwtween Attrition and YearsSinceLastPromotion\n",
      "-0.03301877514258433 0.028330336189396753\n"
     ]
    }
   ],
   "source": [
    "h1=dataset.Attrition\n",
    "h2=dataset.YearsSinceLastPromotion\n",
    "stat, p = pearsonr(h1,h2)\n",
    "print(\"Correlation analysis bwtween Attrition and YearsSinceLastPromotion\")\n",
    "print(stat, p)"
   ]
  },
  {
   "cell_type": "markdown",
   "metadata": {},
   "source": [
    "### Interpretation Attrition and YearsSinceLastPromotion:\n",
    "#### As r = -0.033, there’s low negative correlation between Attrition and YearsSinceLastPromotion\n",
    "#### As we can see the value of p is 0.02 which is <0.05 hence, we accept alternative hypothesis, there exist siginificant correlation between attrition and YearsSinceLastPromotion"
   ]
  },
  {
   "cell_type": "markdown",
   "metadata": {},
   "source": [
    "### Ho: There exist no dependency between Attrition and YearsWithCurrManager\n",
    "### Ha: There exist dependency between Attrition and YearsWithCurrManager"
   ]
  },
  {
   "cell_type": "code",
   "execution_count": 53,
   "metadata": {},
   "outputs": [
    {
     "name": "stdout",
     "output_type": "stream",
     "text": [
      "Correlation analysis bwtween Attrition and YearsWithCurrManager\n",
      "-0.03301877514258433 1.7339322652900218e-25\n"
     ]
    }
   ],
   "source": [
    "stats, p=pearsonr(dataset.Attrition, dataset.YearsWithCurrManager)\n",
    "print(\"Correlation analysis bwtween Attrition and YearsWithCurrManager\")\n",
    "print(stat, p)"
   ]
  },
  {
   "cell_type": "markdown",
   "metadata": {},
   "source": [
    "### Interpretation Attrition and YearsWithCurrManager:\n",
    "#### As r = -0.033, there’s low negative correlation between Attrition and YearsWithCurrManager\n",
    "#### As we can see the value of p is 1.7339e-25 which is <0.05 hence, we accept alternative hypothesis, there exist siginificant correlation between attrition and YearsWithCurrManager"
   ]
  },
  {
   "cell_type": "code",
   "execution_count": null,
   "metadata": {},
   "outputs": [],
   "source": []
  }
 ],
 "metadata": {
  "kernelspec": {
   "display_name": "Python 3",
   "language": "python",
   "name": "python3"
  },
  "language_info": {
   "codemirror_mode": {
    "name": "ipython",
    "version": 3
   },
   "file_extension": ".py",
   "mimetype": "text/x-python",
   "name": "python",
   "nbconvert_exporter": "python",
   "pygments_lexer": "ipython3",
   "version": "3.7.6"
  }
 },
 "nbformat": 4,
 "nbformat_minor": 4
}
