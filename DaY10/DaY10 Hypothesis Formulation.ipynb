{
 "cells": [
  {
   "cell_type": "markdown",
   "metadata": {},
   "source": [
    "# Hypothesis Formultaion with respect to Attrition variable\n"
   ]
  },
  {
   "cell_type": "markdown",
   "metadata": {},
   "source": [
    "## 1. Ho; the avgerage age of the employees is 36 (Ho:mean=36)\n",
    "##     Ha; the average age of the employees is not 36 (Ha: mean!=36)"
   ]
  },
  {
   "cell_type": "code",
   "execution_count": 15,
   "metadata": {},
   "outputs": [
    {
     "name": "stdout",
     "output_type": "stream",
     "text": [
      "Index(['Age', 'Attrition', 'BusinessTravel', 'Department', 'DistanceFromHome',\n",
      "       'Education', 'EducationField', 'EmployeeCount', 'EmployeeID', 'Gender',\n",
      "       'JobLevel', 'JobRole', 'MaritalStatus', 'MonthlyIncome',\n",
      "       'NumCompaniesWorked', 'Over18', 'PercentSalaryHike', 'StandardHours',\n",
      "       'StockOptionLevel', 'TotalWorkingYears', 'TrainingTimesLastYear',\n",
      "       'YearsAtCompany', 'YearsSinceLastPromotion', 'YearsWithCurrManager'],\n",
      "      dtype='object')\n",
      "               Age    Attrition  DistanceFromHome    Education  EmployeeCount  \\\n",
      "count  4410.000000  4410.000000       4410.000000  4410.000000         4410.0   \n",
      "mean     36.923810     0.161224          9.192517     2.912925            1.0   \n",
      "std       9.133301     0.367780          8.105026     1.023933            0.0   \n",
      "min      18.000000     0.000000          1.000000     1.000000            1.0   \n",
      "25%      30.000000     0.000000          2.000000     2.000000            1.0   \n",
      "50%      36.000000     0.000000          7.000000     3.000000            1.0   \n",
      "75%      43.000000     0.000000         14.000000     4.000000            1.0   \n",
      "max      60.000000     1.000000         29.000000     5.000000            1.0   \n",
      "\n",
      "        EmployeeID     JobLevel  MonthlyIncome  NumCompaniesWorked  \\\n",
      "count  4410.000000  4410.000000    4410.000000         4391.000000   \n",
      "mean   2205.500000     2.063946   65029.312925            2.694830   \n",
      "std    1273.201673     1.106689   47068.888559            2.498887   \n",
      "min       1.000000     1.000000   10090.000000            0.000000   \n",
      "25%    1103.250000     1.000000   29110.000000            1.000000   \n",
      "50%    2205.500000     2.000000   49190.000000            2.000000   \n",
      "75%    3307.750000     3.000000   83800.000000            4.000000   \n",
      "max    4410.000000     5.000000  199990.000000            9.000000   \n",
      "\n",
      "       PercentSalaryHike  StandardHours  StockOptionLevel  TotalWorkingYears  \\\n",
      "count        4410.000000         4410.0       4410.000000        4401.000000   \n",
      "mean           15.209524            8.0          0.793878          11.279936   \n",
      "std             3.659108            0.0          0.851883           7.782222   \n",
      "min            11.000000            8.0          0.000000           0.000000   \n",
      "25%            12.000000            8.0          0.000000           6.000000   \n",
      "50%            14.000000            8.0          1.000000          10.000000   \n",
      "75%            18.000000            8.0          1.000000          15.000000   \n",
      "max            25.000000            8.0          3.000000          40.000000   \n",
      "\n",
      "       TrainingTimesLastYear  YearsAtCompany  YearsSinceLastPromotion  \\\n",
      "count            4410.000000     4410.000000              4410.000000   \n",
      "mean                2.799320        7.008163                 2.187755   \n",
      "std                 1.288978        6.125135                 3.221699   \n",
      "min                 0.000000        0.000000                 0.000000   \n",
      "25%                 2.000000        3.000000                 0.000000   \n",
      "50%                 3.000000        5.000000                 1.000000   \n",
      "75%                 3.000000        9.000000                 3.000000   \n",
      "max                 6.000000       40.000000                15.000000   \n",
      "\n",
      "       YearsWithCurrManager  \n",
      "count           4410.000000  \n",
      "mean               4.123129  \n",
      "std                3.567327  \n",
      "min                0.000000  \n",
      "25%                2.000000  \n",
      "50%                3.000000  \n",
      "75%                7.000000  \n",
      "max               17.000000  \n",
      "36.923809523809524\n"
     ]
    }
   ],
   "source": [
    "import numpy as np\n",
    "import pandas as pd\n",
    "dataset= pd.read_csv(\"C:/Users/DELL/Documents/LetsUpgrade/AL-MI/DaY10/general_data.csv\")\n",
    "print(dataset.columns)\n",
    "print(dataset.describe())\n",
    "print(dataset['Age'].mean())\n"
   ]
  },
  {
   "cell_type": "markdown",
   "metadata": {},
   "source": [
    "## 2. Ho; for attritation the average distance from home is more than 10km (Ho;mean > =10)\n",
    "##     Ha; for attritation the average distance from home is not more than 10km(Ha; mean!>10)      "
   ]
  },
  {
   "cell_type": "code",
   "execution_count": 34,
   "metadata": {},
   "outputs": [
    {
     "name": "stdout",
     "output_type": "stream",
     "text": [
      "4410\n",
      "0       1\n",
      "1       1\n",
      "2       1\n",
      "3       1\n",
      "4       1\n",
      "       ..\n",
      "4405    1\n",
      "4406    1\n",
      "4407    1\n",
      "4408    1\n",
      "4409    1\n",
      "Name: Attrition, Length: 4410, dtype: int64\n",
      "\n",
      "9.19251700680272\n"
     ]
    }
   ],
   "source": [
    "\n",
    "a= (dataset[\"Attrition\"].count())\n",
    "print(a)\n",
    "print(dataset.Attrition)\n",
    "print()\n",
    "print(dataset[\"DistanceFromHome\"].mean())"
   ]
  },
  {
   "cell_type": "markdown",
   "metadata": {},
   "source": [
    "## 3. Ho: There exist dependency in TotalWorkingYears with PercentSalaryHike\n",
    "##     Ha: There exist no dependency in TotalWorkingYears with PercentSalaryHike"
   ]
  },
  {
   "cell_type": "code",
   "execution_count": 30,
   "metadata": {},
   "outputs": [],
   "source": [
    "from scipy.stats import chi2_contingency"
   ]
  },
  {
   "cell_type": "code",
   "execution_count": 32,
   "metadata": {},
   "outputs": [
    {
     "name": "stdout",
     "output_type": "stream",
     "text": [
      "PercentSalaryHike   11  12  13  14  15  16  17  18  19  20  21  22  23  24  25\n",
      "TotalWorkingYears                                                             \n",
      "0.0                  3   9   0   3   3   0   0   6   0   0   0   3   3   3   0\n",
      "1.0                 30  30  39  27  24  11  21  15  18   0   9  12   0   3   3\n",
      "2.0                  9   6  15  12   6   6   9   9   6   3   0   6   0   0   6\n",
      "3.0                 21  12  15  30   6   6   9   0   9   6   3   3   0   6   0\n",
      "4.0                 39  24  24  18   9   3   9   9   6   3  15  15   3   3   9\n",
      "5.0                 30  36  42  24  24  30   6  15  24  18   3   9   3   0   0\n",
      "6.0                 36  51  63  48  27  39  21  15  18  18   6  15   9   9   0\n",
      "7.0                 33  30  48  30   9   3  15  18  27   3   6  12   9   0   0\n",
      "8.0                 36  39  38  38  18  18  30  21   6  24  12   9   9   0   9\n",
      "9.0                 33  45  36  42  24  20  15  12   6  12  21   3  12   3   3\n",
      "10.0               105  90  72  87  48  24  33  27  33  15  21  24   8  12   6\n",
      "11.0                18  18   9  15   6   3   8   9   3   6   5   3   3   0   0\n",
      "12.0                24  27  12  24   3   6   9  12   9   3   3  12   0   0   0\n",
      "13.0                30  12   9  18   6   6   3   3   9   6   6   0   0   0   0\n",
      "14.0                24  15   9  15   3   3   0   6   6   0   3   0   0   6   3\n",
      "15.0                15  18  18  12   9   6   3  21   3   3   3   6   0   0   3\n",
      "16.0                 6  18  12   6   9   3  12   3  12   9   0  12   0   0   9\n",
      "17.0                18   6  21  18   6   3   0  12   3   6   0   0   6   0   0\n",
      "18.0                15   3  15  12   6   6   3   6   3   3   3   6   0   0   0\n",
      "19.0                12  18   9  15   0   3   0   3   3   3   0   0   0   0   0\n",
      "20.0                12  12  18  11   6   3   6   6  15   0   0   0   0   0   0\n",
      "21.0                15  18  21   6  12   0   6   9   0   6   0   6   3   0   0\n",
      "22.0                 3   5  15   6   3  12   3   3   3   3   0   0   3   3   0\n",
      "23.0                 9   3  18  15   3   3   3   6   0   0   3   0   0   3   0\n",
      "24.0                 3   9   9  12   9   0   3   0   0   0   0   0   6   3   0\n",
      "25.0                 6   6   3   9   3   0   3   0   0   0   9   3   0   0   0\n",
      "26.0                 6   9   3   9   3   0   6   3   0   0   3   0   0   0   0\n",
      "27.0                 9   3   3   0   0   0   0   0   3   0   0   0   0   3   0\n",
      "28.0                 9   3   9   6   3   3   0   0   0   0   3   3   3   0   0\n",
      "29.0                 0   0   3   9   9   0   0   3   0   0   3   3   0   0   0\n",
      "30.0                 6   6   3   3   0   0   0   0   0   3   0   0   0   0   0\n",
      "31.0                 3   0   6   3   0   9   0   3   0   3   0   0   0   0   0\n",
      "32.0                 0   9   0   3   0   0   0   3   0   3   3   0   3   3   0\n",
      "33.0                 0   0   6   6   3   0   0   3   0   0   0   3   0   0   0\n",
      "34.0                 6   0   0   0   0   0   0   0   0   3   0   0   0   3   3\n",
      "35.0                 0   0   0   0   3   0   0   3   0   3   0   0   0   0   0\n",
      "36.0                 0   0   0   6   0   3   3   3   3   0   0   0   0   0   0\n",
      "37.0                 6   3   0   0   0   0   3   0   0   0   0   0   0   0   0\n",
      "38.0                 0   0   0   3   0   0   0   0   0   0   0   0   0   0   0\n",
      "40.0                 0   0   3   0   0   0   3   0   0   0   0   0   0   0   0\n",
      "1686.4593937215589 1.33322498163808e-116\n"
     ]
    }
   ],
   "source": [
    "chitable=pd.crosstab(dataset.TotalWorkingYears,dataset.PercentSalaryHike)\n",
    "print(chitable)\n",
    "stat,p,dof,expected=chi2_contingency(chitable)\n",
    "print(stat,p)"
   ]
  },
  {
   "cell_type": "markdown",
   "metadata": {},
   "source": [
    "## 4. Ho: The average monthly salary is 45k (Ho:mean=45000)\n",
    "##     Ha: The avgerage monthly salary is not 45k(Ha:mean!=45000)"
   ]
  },
  {
   "cell_type": "code",
   "execution_count": 36,
   "metadata": {},
   "outputs": [
    {
     "name": "stdout",
     "output_type": "stream",
     "text": [
      "49190.0\n"
     ]
    }
   ],
   "source": [
    "avg= dataset['MonthlyIncome'].median()\n",
    "print(avg)"
   ]
  },
  {
   "cell_type": "markdown",
   "metadata": {},
   "source": [
    "## 5. Ho: The average number of YearsAtCompany is less than 5years\n",
    "##    Ha: The average number of years at he company is not less than 5years"
   ]
  },
  {
   "cell_type": "code",
   "execution_count": 45,
   "metadata": {},
   "outputs": [
    {
     "name": "stdout",
     "output_type": "stream",
     "text": [
      "7.0081632653061225\n"
     ]
    }
   ],
   "source": [
    "print(dataset[\"YearsAtCompany\"].mean())"
   ]
  },
  {
   "cell_type": "markdown",
   "metadata": {},
   "source": [
    "## 6. Ho: there exist no correlation between attrition and education\n",
    "##     Ha: There exist correlation"
   ]
  },
  {
   "cell_type": "code",
   "execution_count": 58,
   "metadata": {},
   "outputs": [
    {
     "name": "stdout",
     "output_type": "stream",
     "text": [
      "      Age  Attrition     BusinessTravel              Department  \\\n",
      "0      51          1      Travel_Rarely                   Sales   \n",
      "1      32          1  Travel_Frequently  Research & Development   \n",
      "2      38          1         Non-Travel  Research & Development   \n",
      "3      32          1      Travel_Rarely  Research & Development   \n",
      "4      46          1      Travel_Rarely  Research & Development   \n",
      "...   ...        ...                ...                     ...   \n",
      "4405   29          1      Travel_Rarely  Research & Development   \n",
      "4406   33          1      Travel_Rarely                   Sales   \n",
      "4407   33          1      Travel_Rarely                   Sales   \n",
      "4408   32          1      Travel_Rarely                   Sales   \n",
      "4409   37          1  Travel_Frequently                   Sales   \n",
      "\n",
      "      DistanceFromHome  Education EducationField  EmployeeCount  EmployeeID  \\\n",
      "0                    6          2  Life Sciences              1           1   \n",
      "1                   17          4          Other              1           3   \n",
      "2                    2          5  Life Sciences              1           4   \n",
      "3                   10          1        Medical              1           5   \n",
      "4                    8          3  Life Sciences              1           6   \n",
      "...                ...        ...            ...            ...         ...   \n",
      "4405                 7          1  Life Sciences              1        4382   \n",
      "4406                11          4      Marketing              1        4387   \n",
      "4407                 1          3  Life Sciences              1        4389   \n",
      "4408                23          1  Life Sciences              1        4392   \n",
      "4409                 2          3      Marketing              1        4403   \n",
      "\n",
      "      Gender  ...  NumCompaniesWorked Over18 PercentSalaryHike  StandardHours  \\\n",
      "0     Female  ...                 1.0      Y                11              8   \n",
      "1       Male  ...                 1.0      Y                15              8   \n",
      "2       Male  ...                 3.0      Y                11              8   \n",
      "3       Male  ...                 4.0      Y                12              8   \n",
      "4     Female  ...                 3.0      Y                13              8   \n",
      "...      ...  ...                 ...    ...               ...            ...   \n",
      "4405  Female  ...                 1.0      Y                21              8   \n",
      "4406    Male  ...                 5.0      Y                21              8   \n",
      "4407    Male  ...                 7.0      Y                11              8   \n",
      "4408    Male  ...                 0.0      Y                11              8   \n",
      "4409    Male  ...                 6.0      Y                11              8   \n",
      "\n",
      "      StockOptionLevel TotalWorkingYears  TrainingTimesLastYear  \\\n",
      "0                    0               1.0                      6   \n",
      "1                    3               5.0                      2   \n",
      "2                    3              13.0                      5   \n",
      "3                    2               9.0                      2   \n",
      "4                    0              28.0                      5   \n",
      "...                ...               ...                    ...   \n",
      "4405                 0               4.0                      2   \n",
      "4406                 0               8.0                      2   \n",
      "4407                 0              13.0                      2   \n",
      "4408                 0               4.0                      2   \n",
      "4409                 1              17.0                      2   \n",
      "\n",
      "      YearsAtCompany  YearsSinceLastPromotion  YearsWithCurrManager  \n",
      "0                  1                        0                     0  \n",
      "1                  5                        0                     3  \n",
      "2                  8                        7                     5  \n",
      "3                  6                        0                     4  \n",
      "4                  7                        7                     7  \n",
      "...              ...                      ...                   ...  \n",
      "4405               4                        0                     1  \n",
      "4406               5                        0                     4  \n",
      "4407               9                        1                     7  \n",
      "4408               3                        1                     2  \n",
      "4409               1                        0                     0  \n",
      "\n",
      "[4382 rows x 24 columns]\n",
      "nan nan\n",
      "                              Age  Attrition  DistanceFromHome  Education  \\\n",
      "Age                      1.000000        NaN          0.006963  -0.035706   \n",
      "Attrition                     NaN        NaN               NaN        NaN   \n",
      "DistanceFromHome         0.006963        NaN          1.000000  -0.008638   \n",
      "Education               -0.035706        NaN         -0.008638   1.000000   \n",
      "EmployeeCount                 NaN        NaN               NaN        NaN   \n",
      "EmployeeID               0.008649        NaN         -0.001097  -0.009680   \n",
      "JobLevel                -0.002884        NaN         -0.037329   0.045746   \n",
      "MonthlyIncome           -0.044314        NaN         -0.021607   0.006410   \n",
      "NumCompaniesWorked       0.299243        NaN         -0.013843  -0.016250   \n",
      "PercentSalaryHike       -0.033137        NaN          0.038125  -0.040531   \n",
      "StandardHours                 NaN        NaN               NaN        NaN   \n",
      "StockOptionLevel        -0.031753        NaN          0.011169   0.001261   \n",
      "TotalWorkingYears        0.680661        NaN          0.009374  -0.010717   \n",
      "TrainingTimesLastYear   -0.027308        NaN         -0.009001   0.010472   \n",
      "YearsAtCompany           0.311309        NaN          0.031684   0.006080   \n",
      "YearsSinceLastPromotion  0.216513        NaN          0.002290   0.022490   \n",
      "YearsWithCurrManager     0.202089        NaN          0.021584   0.005358   \n",
      "\n",
      "                         EmployeeCount  EmployeeID  JobLevel  MonthlyIncome  \\\n",
      "Age                                NaN    0.008649 -0.002884      -0.044314   \n",
      "Attrition                          NaN         NaN       NaN            NaN   \n",
      "DistanceFromHome                   NaN   -0.001097 -0.037329      -0.021607   \n",
      "Education                          NaN   -0.009680  0.045746       0.006410   \n",
      "EmployeeCount                      NaN         NaN       NaN            NaN   \n",
      "EmployeeID                         NaN    1.000000 -0.003303       0.007338   \n",
      "JobLevel                           NaN   -0.003303  1.000000       0.047316   \n",
      "MonthlyIncome                      NaN    0.007338  0.047316       1.000000   \n",
      "NumCompaniesWorked                 NaN   -0.001117 -0.009875      -0.020726   \n",
      "PercentSalaryHike                  NaN   -0.004456  0.010973       0.004325   \n",
      "StandardHours                      NaN         NaN       NaN            NaN   \n",
      "StockOptionLevel                   NaN   -0.014254  0.000993       0.026930   \n",
      "TotalWorkingYears                  NaN   -0.001063 -0.036957      -0.033787   \n",
      "TrainingTimesLastYear              NaN   -0.010191 -0.032500       0.050112   \n",
      "YearsAtCompany                     NaN    0.004086 -0.064219       0.000995   \n",
      "YearsSinceLastPromotion            NaN    0.000256 -0.060811       0.065219   \n",
      "YearsWithCurrManager               NaN    0.008579 -0.055251       0.024304   \n",
      "\n",
      "                         NumCompaniesWorked  PercentSalaryHike  StandardHours  \\\n",
      "Age                                0.299243          -0.033137            NaN   \n",
      "Attrition                               NaN                NaN            NaN   \n",
      "DistanceFromHome                  -0.013843           0.038125            NaN   \n",
      "Education                         -0.016250          -0.040531            NaN   \n",
      "EmployeeCount                           NaN                NaN            NaN   \n",
      "EmployeeID                        -0.001117          -0.004456            NaN   \n",
      "JobLevel                          -0.009875           0.010973            NaN   \n",
      "MonthlyIncome                     -0.020726           0.004325            NaN   \n",
      "NumCompaniesWorked                 1.000000           0.030860            NaN   \n",
      "PercentSalaryHike                  0.030860           1.000000            NaN   \n",
      "StandardHours                           NaN                NaN            NaN   \n",
      "StockOptionLevel                   0.017163           0.012548            NaN   \n",
      "TotalWorkingYears                  0.238807          -0.018736            NaN   \n",
      "TrainingTimesLastYear             -0.032286          -0.037392            NaN   \n",
      "YearsAtCompany                    -0.117959          -0.029707            NaN   \n",
      "YearsSinceLastPromotion           -0.036656          -0.029542            NaN   \n",
      "YearsWithCurrManager              -0.109667          -0.040864            NaN   \n",
      "\n",
      "                         StockOptionLevel  TotalWorkingYears  \\\n",
      "Age                             -0.031753           0.680661   \n",
      "Attrition                             NaN                NaN   \n",
      "DistanceFromHome                 0.011169           0.009374   \n",
      "Education                        0.001261          -0.010717   \n",
      "EmployeeCount                         NaN                NaN   \n",
      "EmployeeID                      -0.014254          -0.001063   \n",
      "JobLevel                         0.000993          -0.036957   \n",
      "MonthlyIncome                    0.026930          -0.033787   \n",
      "NumCompaniesWorked               0.017163           0.238807   \n",
      "PercentSalaryHike                0.012548          -0.018736   \n",
      "StandardHours                         NaN                NaN   \n",
      "StockOptionLevel                 1.000000           0.002694   \n",
      "TotalWorkingYears                0.002694           1.000000   \n",
      "TrainingTimesLastYear           -0.069902          -0.040762   \n",
      "YearsAtCompany                   0.007886           0.627703   \n",
      "YearsSinceLastPromotion          0.019063           0.404444   \n",
      "YearsWithCurrManager             0.017757           0.458800   \n",
      "\n",
      "                         TrainingTimesLastYear  YearsAtCompany  \\\n",
      "Age                                  -0.027308        0.311309   \n",
      "Attrition                                  NaN             NaN   \n",
      "DistanceFromHome                     -0.009001        0.031684   \n",
      "Education                             0.010472        0.006080   \n",
      "EmployeeCount                              NaN             NaN   \n",
      "EmployeeID                           -0.010191        0.004086   \n",
      "JobLevel                             -0.032500       -0.064219   \n",
      "MonthlyIncome                         0.050112        0.000995   \n",
      "NumCompaniesWorked                   -0.032286       -0.117959   \n",
      "PercentSalaryHike                    -0.037392       -0.029707   \n",
      "StandardHours                              NaN             NaN   \n",
      "StockOptionLevel                     -0.069902        0.007886   \n",
      "TotalWorkingYears                    -0.040762        0.627703   \n",
      "TrainingTimesLastYear                 1.000000       -0.007894   \n",
      "YearsAtCompany                       -0.007894        1.000000   \n",
      "YearsSinceLastPromotion               0.016121        0.618409   \n",
      "YearsWithCurrManager                 -0.013270        0.769212   \n",
      "\n",
      "                         YearsSinceLastPromotion  YearsWithCurrManager  \n",
      "Age                                     0.216513              0.202089  \n",
      "Attrition                                    NaN                   NaN  \n",
      "DistanceFromHome                        0.002290              0.021584  \n",
      "Education                               0.022490              0.005358  \n",
      "EmployeeCount                                NaN                   NaN  \n",
      "EmployeeID                              0.000256              0.008579  \n",
      "JobLevel                               -0.060811             -0.055251  \n",
      "MonthlyIncome                           0.065219              0.024304  \n",
      "NumCompaniesWorked                     -0.036656             -0.109667  \n",
      "PercentSalaryHike                      -0.029542             -0.040864  \n",
      "StandardHours                                NaN                   NaN  \n",
      "StockOptionLevel                        0.019063              0.017757  \n",
      "TotalWorkingYears                       0.404444              0.458800  \n",
      "TrainingTimesLastYear                   0.016121             -0.013270  \n",
      "YearsAtCompany                          0.618409              0.769212  \n",
      "YearsSinceLastPromotion                 1.000000              0.510224  \n",
      "YearsWithCurrManager                    0.510224              1.000000  \n"
     ]
    },
    {
     "name": "stderr",
     "output_type": "stream",
     "text": [
      "C:\\Users\\DELL\\anaconda3\\lib\\site-packages\\scipy\\stats\\stats.py:3508: PearsonRConstantInputWarning: An input array is constant; the correlation coefficent is not defined.\n",
      "  warnings.warn(PearsonRConstantInputWarning())\n"
     ]
    }
   ],
   "source": [
    "print(dataset.dropna())\n",
    "from scipy.stats import pearsonr\n",
    "stat,p=pearsonr(dataset.Attrition,dataset.BusinessTravel) \n",
    "print(stat,p)\n",
    "print(dataset.corr())"
   ]
  },
  {
   "cell_type": "markdown",
   "metadata": {},
   "source": [
    "## 7. Ho: There exist dependency in Monthly salary with Education\n",
    "## Ha: There exist no dependency in Monthly Salary with Education"
   ]
  },
  {
   "cell_type": "code",
   "execution_count": 54,
   "metadata": {},
   "outputs": [
    {
     "name": "stdout",
     "output_type": "stream",
     "text": [
      "Education      1  2  3  4  5\n",
      "MonthlyIncome               \n",
      "10090          0  0  0  3  0\n",
      "10510          0  0  3  0  0\n",
      "10520          0  0  3  0  0\n",
      "10810          0  0  3  0  0\n",
      "10910          0  0  0  3  0\n",
      "...           .. .. .. .. ..\n",
      "198590         0  0  0  3  0\n",
      "199260         0  0  3  0  0\n",
      "199430         0  0  0  3  0\n",
      "199730         0  3  0  0  0\n",
      "199990         3  0  0  0  0\n",
      "\n",
      "[1349 rows x 5 columns]\n",
      "\n",
      "\n",
      "16182.876831701382 0.0\n"
     ]
    }
   ],
   "source": [
    "from scipy.stats import chi2_contingency\n",
    "chitable1=pd.crosstab(dataset.MonthlyIncome,dataset.Education)\n",
    "print(chitable1)\n",
    "stat,p,dof,expected=chi2_contingency(chitable1)\n",
    "print(\"\\n\")\n",
    "print(stat,p)"
   ]
  },
  {
   "cell_type": "markdown",
   "metadata": {},
   "source": [
    "## 8. Ho; there exist dependency between JobLevel and  MonthlyIncome\n",
    "##    Ha; there exist no dependency between joblevel and Monthlyincome"
   ]
  },
  {
   "cell_type": "code",
   "execution_count": 59,
   "metadata": {},
   "outputs": [
    {
     "name": "stdout",
     "output_type": "stream",
     "text": [
      "JobLevel       1  2  3  4  5\n",
      "MonthlyIncome               \n",
      "10090          0  3  0  0  0\n",
      "10510          0  3  0  0  0\n",
      "10520          0  0  3  0  0\n",
      "10810          0  3  0  0  0\n",
      "10910          3  0  0  0  0\n",
      "...           .. .. .. .. ..\n",
      "198590         0  3  0  0  0\n",
      "199260         3  0  0  0  0\n",
      "199430         0  3  0  0  0\n",
      "199730         0  0  3  0  0\n",
      "199990         0  3  0  0  0\n",
      "\n",
      "[1349 rows x 5 columns]\n",
      "\n",
      "\n",
      "15959.385701028059 0.0\n"
     ]
    }
   ],
   "source": [
    "chitable2=pd.crosstab(dataset.MonthlyIncome,dataset.JobLevel)\n",
    "print(chitable2)\n",
    "stat,p,dof,expected=chi2_contingency(chitable2)\n",
    "print(\"\\n\")\n",
    "print(stat,p)"
   ]
  },
  {
   "cell_type": "markdown",
   "metadata": {},
   "source": [
    "## 9. Ho; there exist dependency between Age and Attrition\n",
    "## Ha; there exist no dependency between Age and attrition"
   ]
  },
  {
   "cell_type": "code",
   "execution_count": 64,
   "metadata": {},
   "outputs": [
    {
     "name": "stdout",
     "output_type": "stream",
     "text": [
      "\n",
      "\n",
      "0.0 1.0\n"
     ]
    }
   ],
   "source": [
    "chitable3=pd.crosstab(dataset.Attrition,dataset.Age)\n",
    "stat,p,dof,expected=chi2_contingency(chitable3)\n",
    "print(\"\\n\")\n",
    "print(stat,p)"
   ]
  },
  {
   "cell_type": "markdown",
   "metadata": {},
   "source": [
    "## 10. Ho;the average no of companies changed is more than 3 can be a valid reason of attrition\n",
    "##   Ha: the average no of companies changed not more than 3"
   ]
  },
  {
   "cell_type": "code",
   "execution_count": 67,
   "metadata": {},
   "outputs": [
    {
     "name": "stdout",
     "output_type": "stream",
     "text": [
      "2.6948303347756775\n"
     ]
    }
   ],
   "source": [
    "changed=dataset[\"NumCompaniesWorked\"].mean()\n",
    "print(changed)"
   ]
  },
  {
   "cell_type": "code",
   "execution_count": null,
   "metadata": {},
   "outputs": [],
   "source": []
  }
 ],
 "metadata": {
  "kernelspec": {
   "display_name": "Python 3",
   "language": "python",
   "name": "python3"
  },
  "language_info": {
   "codemirror_mode": {
    "name": "ipython",
    "version": 3
   },
   "file_extension": ".py",
   "mimetype": "text/x-python",
   "name": "python",
   "nbconvert_exporter": "python",
   "pygments_lexer": "ipython3",
   "version": "3.7.6"
  }
 },
 "nbformat": 4,
 "nbformat_minor": 4
}
