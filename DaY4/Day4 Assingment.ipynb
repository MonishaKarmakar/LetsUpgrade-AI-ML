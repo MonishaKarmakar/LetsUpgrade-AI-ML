{
 "cells": [
  {
   "cell_type": "markdown",
   "metadata": {},
   "source": [
    "# Question 1 :\n",
    "__Research on whether addition, subtraction, multiplication, division, floor division and modulo\n",
    "operations be performed on complex numbers. Based on your study, implement a Python\n",
    "program to demonstrate these operations__"
   ]
  },
  {
   "cell_type": "code",
   "execution_count": 1,
   "metadata": {
    "collapsed": false
   },
   "outputs": [
    {
     "name": "stdout",
     "output_type": "stream",
     "text": [
      "enter first Complex number9+5j\n",
      "your entered first complex number is (9+5j)\n",
      "Enter secod complex number6+3j\n",
      "your entered second complex number is (6+3j)\n",
      "Checking various operation on complex number\n",
      "Addition of the two number (15+8j)\n",
      "Substraction of the two number (3+2j)\n",
      "Division of the two number (1.5333333333333334+0.06666666666666667j)\n",
      "hence we can see that complex number cannot be divided nor modulo operation can be used, have kept them in comment\n"
     ]
    }
   ],
   "source": [
    "Num1= complex(input(\"enter first Complex number\"))\n",
    "print(\"your entered first complex number is\", Num1)\n",
    "Num2= complex(input(\"Enter secod complex number\"))\n",
    "print(\"your entered second complex number is\", Num2)\n",
    "print(\"Checking various operation on complex number\")\n",
    "print(\"Addition of the two number\", Num1+Num2)\n",
    "print(\"Substraction of the two number\", Num1-Num2)\n",
    "print(\"Division of the two number\", Num1/Num2)\n",
    "#print(\"Floor Divison of the two number\", Num1//Num2)\n",
    "#print(\"modulus operation of the two number\", Num1%Num2)\n",
    "print(\"hence we can see that complex number cannot be divided nor modulo operation can be used, have kept them in comment\")\n"
   ]
  },
  {
   "cell_type": "markdown",
   "metadata": {
    "collapsed": true
   },
   "source": [
    "# Question 2 : \n",
    "__Research on range() functions and its parameters. Create a markdown cell and write in your own\n",
    "words (no copy-paste from google please) what you understand about it. Implement a small\n",
    "program of your choice on the same_\n"
   ]
  },
  {
   "cell_type": "markdown",
   "metadata": {
    "collapsed": true
   },
   "source": [
    "# range() Function and Parameter\n",
    "## 1. this is a built in function\n",
    "## 2. Is used to generate a sequence of number\n",
    "\n",
    "# Syntax\n",
    "## 1.range(stop)\n",
    "## 2.range(start,stop[,step])\n",
    "# parameters\n",
    "## 1. start- by default this is zero,  and optional to mention.\n",
    "## 2. stop- Reguired, specifying at which point to stop.\n",
    "## 3. step- Optional, by default is 1\n"
   ]
  },
  {
   "cell_type": "markdown",
   "metadata": {
    "collapsed": true
   },
   "source": [
    "# Program using range()"
   ]
  },
  {
   "cell_type": "code",
   "execution_count": 3,
   "metadata": {
    "collapsed": false
   },
   "outputs": [
    {
     "name": "stdout",
     "output_type": "stream",
     "text": [
      "[]\n",
      "[0, 1, 2, 3, 4, 5, 6, 7, 8, 9]\n",
      "[1, 2, 3, 4, 5, 6, 7, 8, 9]\n"
     ]
    }
   ],
   "source": [
    "#empty range\n",
    "print(list(range(0)))\n",
    "#using range(stop)\n",
    "print(list(range(10)))\n",
    "#using range(start, stop)\n",
    "print(list(range(1,10)))"
   ]
  },
  {
   "cell_type": "code",
   "execution_count": 4,
   "metadata": {
    "collapsed": false
   },
   "outputs": [
    {
     "name": "stdout",
     "output_type": "stream",
     "text": [
      "[2, 4, 6, 8, 10, 12]\n"
     ]
    }
   ],
   "source": [
    "#a list of even number between the given number using range()\n",
    "start= 2\n",
    "stop= 14\n",
    "step= 2\n",
    "print(list(range(start,stop,step)))"
   ]
  },
  {
   "cell_type": "markdown",
   "metadata": {},
   "source": [
    "# Question 3:\n",
    "__Consider two numbers. Perform their subtraction and if the result of subtraction is greater than\n",
    "25, print their multiplication result else print their division result.__"
   ]
  },
  {
   "cell_type": "code",
   "execution_count": 15,
   "metadata": {
    "collapsed": false
   },
   "outputs": [
    {
     "name": "stdout",
     "output_type": "stream",
     "text": [
      "Enter your first number40\n",
      "your entered first number is 40\n",
      "Enter Your second number3\n",
      "your entered second number is 3\n",
      "The multiplication of the two number are 120\n",
      "This block was executed as the substraction of the two number is greater than 25\n"
     ]
    }
   ],
   "source": [
    "No1 = int(input(\"Enter your first number\"))\n",
    "print(\"your entered first number is\", No1)\n",
    "No2 =int(input(\"Enter Your second number\"))\n",
    "print(\"your entered second number is\", No2)\n",
    "No3= (No1-No2)\n",
    "No= 25\n",
    "if No3 > No:\n",
    "    print(\"The multiplication of the two number are\", No1*No2)\n",
    "    print(\"This block was executed as the substraction of the two number is greater than 25\")\n",
    "else :\n",
    "    print(\"The division of the two number are\", No1/No2)\n",
    "    print(\"This block was executed as the substraction of the two number is less than 25\")\n",
    "    "
   ]
  },
  {
   "cell_type": "markdown",
   "metadata": {},
   "source": [
    "# Question 4:\n",
    "__Consider a list of 10 elements of integer values. If the number in the list is divisible by 2, print the\n",
    "result as \"square of that number minus 2\".__"
   ]
  },
  {
   "cell_type": "code",
   "execution_count": 22,
   "metadata": {
    "collapsed": false
   },
   "outputs": [
    {
     "name": "stdout",
     "output_type": "stream",
     "text": [
      "\n",
      "\n",
      "This block is executed as the number is divisible by 2\n",
      "hence the output will be 324\n",
      "This block is executed as the number is divisible by 2\n",
      "hence the output will be 64\n",
      "This block is executed as the number is not divisible by 2\n",
      "This block is executed as the number is not divisible by 2\n",
      "This block is executed as the number is not divisible by 2\n",
      "This block is executed as the number is divisible by 2\n",
      "hence the output will be 4356\n",
      "This block is executed as the number is not divisible by 2\n",
      "This block is executed as the number is divisible by 2\n",
      "hence the output will be 8100\n",
      "This block is executed as the number is divisible by 2\n",
      "hence the output will be 64\n",
      "This block is executed as the number is divisible by 2\n",
      "hence the output will be 676\n",
      "The End Block\n"
     ]
    }
   ],
   "source": [
    "\n",
    "n=[20,10,1,5,43,68,95,92,10,28]\n",
    "print(\"\\n\")\n",
    "for i in n:\n",
    "    if i%2==0:\n",
    "        j= (i-2)**2\n",
    "        print(\"This block is executed as the number is divisible by 2\")\n",
    "        print(\"hence the output will be\",j)\n",
    "    else:\n",
    "        print(\"This block is executed as the number is not divisible by 2\")\n",
    "print(\"The End Block\")   "
   ]
  },
  {
   "cell_type": "markdown",
   "metadata": {},
   "source": [
    "# Question 5:\n",
    "__Consider a list of 10 elements. Print all the elements in the list which are greater than 7 when that\n",
    "number is divided 2.__"
   ]
  },
  {
   "cell_type": "code",
   "execution_count": 24,
   "metadata": {
    "collapsed": false
   },
   "outputs": [
    {
     "name": "stdout",
     "output_type": "stream",
     "text": [
      "\n",
      "\n",
      "The number are not greater than 7 when divisible by 2 is 10\n",
      "The number are not greater than 7 when divisible by 2 is 8\n",
      "The number are not greater than 7 when divisible by 2 is 2\n",
      "The number in list which is greater than 7 and divisible by 2 is 90\n",
      "The number in list which is greater than 7 and divisible by 2 is 15\n",
      "The number in list which is greater than 7 and divisible by 2 is 32\n",
      "The number in list which is greater than 7 and divisible by 2 is 54\n",
      "The number in list which is greater than 7 and divisible by 2 is 77\n",
      "The number in list which is greater than 7 and divisible by 2 is 89\n",
      "The number in list which is greater than 7 and divisible by 2 is 299\n",
      "Thank you\n"
     ]
    }
   ],
   "source": [
    "num=[10,8,2,90,15,32,54,77,89,299]\n",
    "print('\\n')\n",
    "for i in num:\n",
    "    if (i/2>7):\n",
    "        print(\"The number in list which is greater than 7 and divisible by 2 is\", i)\n",
    "    else:\n",
    "        print(\"The number are not greater than 7 when divisible by 2 is\",i)\n",
    "print(\"Thank you\")        "
   ]
  },
  {
   "cell_type": "code",
   "execution_count": null,
   "metadata": {
    "collapsed": true
   },
   "outputs": [],
   "source": []
  }
 ],
 "metadata": {
  "anaconda-cloud": {},
  "kernelspec": {
   "display_name": "Python [default]",
   "language": "python",
   "name": "python3"
  },
  "language_info": {
   "codemirror_mode": {
    "name": "ipython",
    "version": 3
   },
   "file_extension": ".py",
   "mimetype": "text/x-python",
   "name": "python",
   "nbconvert_exporter": "python",
   "pygments_lexer": "ipython3",
   "version": "3.5.2"
  }
 },
 "nbformat": 4,
 "nbformat_minor": 1
}
