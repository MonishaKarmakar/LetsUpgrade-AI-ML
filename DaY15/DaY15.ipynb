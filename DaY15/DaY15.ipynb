{
 "cells": [
  {
   "cell_type": "markdown",
   "metadata": {},
   "source": [
    "# Numpy programming\n"
   ]
  },
  {
   "cell_type": "markdown",
   "metadata": {},
   "source": [
    "## 1. Create a 3x3x3 array with random values"
   ]
  },
  {
   "cell_type": "code",
   "execution_count": 1,
   "metadata": {},
   "outputs": [
    {
     "name": "stdout",
     "output_type": "stream",
     "text": [
      "[[[0.62948552 0.93840288 0.71727662]\n",
      "  [0.29412767 0.25480205 0.14676034]\n",
      "  [0.09197212 0.39094884 0.95852088]]\n",
      "\n",
      " [[0.17958457 0.35693619 0.53363205]\n",
      "  [0.41989498 0.52868257 0.06302834]\n",
      "  [0.74777391 0.24734991 0.03118013]]\n",
      "\n",
      " [[0.61740465 0.97962004 0.15920237]\n",
      "  [0.78245288 0.97522361 0.25373628]\n",
      "  [0.83379231 0.57212154 0.50704711]]]\n"
     ]
    }
   ],
   "source": [
    "import numpy as np\n",
    "\n",
    "a = np.random.random((3,3,3))\n",
    "print(a)"
   ]
  },
  {
   "cell_type": "markdown",
   "metadata": {},
   "source": [
    "# 2.Create a 5x5 matrix with values 1,2,3,4 just below the diagonal"
   ]
  },
  {
   "cell_type": "code",
   "execution_count": 2,
   "metadata": {},
   "outputs": [
    {
     "name": "stdout",
     "output_type": "stream",
     "text": [
      "[[0 0 0 0 0]\n",
      " [1 0 0 0 0]\n",
      " [0 2 0 0 0]\n",
      " [0 0 3 0 0]\n",
      " [0 0 0 4 0]]\n"
     ]
    }
   ],
   "source": [
    "import numpy as np\n",
    "b = np.diag(1+np.arange(4),k=-1)\n",
    "print(b)"
   ]
  },
  {
   "cell_type": "markdown",
   "metadata": {},
   "source": [
    "# 3.Create a 8x8 matrix and fill it with a checkerboard pattern"
   ]
  },
  {
   "cell_type": "code",
   "execution_count": 3,
   "metadata": {},
   "outputs": [
    {
     "name": "stdout",
     "output_type": "stream",
     "text": [
      "[[0 1 0 1 0 1 0 1]\n",
      " [1 0 1 0 1 0 1 0]\n",
      " [0 1 0 1 0 1 0 1]\n",
      " [1 0 1 0 1 0 1 0]\n",
      " [0 1 0 1 0 1 0 1]\n",
      " [1 0 1 0 1 0 1 0]\n",
      " [0 1 0 1 0 1 0 1]\n",
      " [1 0 1 0 1 0 1 0]]\n"
     ]
    }
   ],
   "source": [
    "import numpy as np\n",
    "c = np.zeros((8,8),dtype=int)\n",
    "c[1::2,::2] = 1\n",
    "c[::2,1::2] = 1\n",
    "print(c)"
   ]
  },
  {
   "cell_type": "markdown",
   "metadata": {},
   "source": [
    "## 4. Normalize a 5x5 random matrix"
   ]
  },
  {
   "cell_type": "code",
   "execution_count": 4,
   "metadata": {},
   "outputs": [
    {
     "name": "stdout",
     "output_type": "stream",
     "text": [
      "[[ 0.50795741  1.08281797 -1.13080524  0.44485915  0.18972331]\n",
      " [ 1.45195912 -0.16190807 -0.29876209 -1.4540887   1.06244091]\n",
      " [-0.94034821  1.55882615 -1.01013745 -0.51080876 -1.38998606]\n",
      " [-1.29964623 -0.23950449 -1.14703193 -0.78469363  1.71505872]\n",
      " [ 1.01103262 -0.44702322  0.31010888  1.45757242  0.02238741]]\n"
     ]
    }
   ],
   "source": [
    "import numpy as np\n",
    "Z = np.random.random((5,5))\n",
    "Z = (Z - np.mean (Z)) / (np.std (Z))\n",
    "print(Z)"
   ]
  },
  {
   "cell_type": "markdown",
   "metadata": {},
   "source": [
    "# 5. How to find common values between two arrays?"
   ]
  },
  {
   "cell_type": "code",
   "execution_count": 5,
   "metadata": {},
   "outputs": [
    {
     "name": "stdout",
     "output_type": "stream",
     "text": [
      "[2 8]\n"
     ]
    }
   ],
   "source": [
    "Z1 = np.random.randint(0,10,10)\n",
    "Z2 = np.random.randint(0,10,10)\n",
    "print(np.intersect1d(Z1,Z2))"
   ]
  },
  {
   "cell_type": "markdown",
   "metadata": {},
   "source": [
    "# 6.How to get the dates of yesterday, today and tomorrow?"
   ]
  },
  {
   "cell_type": "code",
   "execution_count": 6,
   "metadata": {},
   "outputs": [
    {
     "name": "stdout",
     "output_type": "stream",
     "text": [
      "2020-08-01\n",
      "2020-08-02\n",
      "2020-08-03\n"
     ]
    }
   ],
   "source": [
    "yesterday = np.datetime64('today') - np.timedelta64(1)\n",
    "today     = np.datetime64('today')\n",
    "tomorrow  = np.datetime64('today') + np.timedelta64(1)\n",
    "print(yesterday)\n",
    "print(today)\n",
    "print(tomorrow)"
   ]
  },
  {
   "cell_type": "markdown",
   "metadata": {},
   "source": [
    "# 7. Consider two random array A and B, check if they are equal"
   ]
  },
  {
   "cell_type": "code",
   "execution_count": 7,
   "metadata": {},
   "outputs": [
    {
     "name": "stdout",
     "output_type": "stream",
     "text": [
      "False\n",
      "False\n"
     ]
    }
   ],
   "source": [
    "A = np.random.randint(0,2,5)\n",
    "B = np.random.randint(0,2,5)\n",
    "\n",
    "# Assuming identical shape of the arrays and a tolerance for the comparison of values\n",
    "equal = np.allclose(A,B)\n",
    "print(equal)\n",
    "\n",
    "# Checking both the shape and the element values, no tolerance (values have to be exactly equal)\n",
    "equal = np.array_equal(A,B)\n",
    "print(equal)"
   ]
  },
  {
   "cell_type": "markdown",
   "metadata": {},
   "source": [
    "# 8.Create random vector of size 10 and replace the maximum value by 0"
   ]
  },
  {
   "cell_type": "code",
   "execution_count": 8,
   "metadata": {},
   "outputs": [
    {
     "name": "stdout",
     "output_type": "stream",
     "text": [
      "[0.18433978 0.18913472 0.61896455 0.09706681 0.69693018 0.29318247\n",
      " 0.34672483 0.63600927 0.23960756 0.        ]\n"
     ]
    }
   ],
   "source": [
    "Z = np.random.random(10)\n",
    "Z[Z.argmax()] = 0\n",
    "print(Z)"
   ]
  },
  {
   "cell_type": "markdown",
   "metadata": {},
   "source": [
    "# 9. How to print all the values of an array?"
   ]
  },
  {
   "cell_type": "code",
   "execution_count": 9,
   "metadata": {},
   "outputs": [
    {
     "name": "stdout",
     "output_type": "stream",
     "text": [
      "[[0. 0. 0. 0. 0. 0. 0. 0. 0. 0.]\n",
      " [0. 0. 0. 0. 0. 0. 0. 0. 0. 0.]\n",
      " [0. 0. 0. 0. 0. 0. 0. 0. 0. 0.]\n",
      " [0. 0. 0. 0. 0. 0. 0. 0. 0. 0.]\n",
      " [0. 0. 0. 0. 0. 0. 0. 0. 0. 0.]\n",
      " [0. 0. 0. 0. 0. 0. 0. 0. 0. 0.]\n",
      " [0. 0. 0. 0. 0. 0. 0. 0. 0. 0.]\n",
      " [0. 0. 0. 0. 0. 0. 0. 0. 0. 0.]\n",
      " [0. 0. 0. 0. 0. 0. 0. 0. 0. 0.]\n",
      " [0. 0. 0. 0. 0. 0. 0. 0. 0. 0.]]\n"
     ]
    }
   ],
   "source": [
    "np.set_printoptions(threshold=float(\"inf\"))\n",
    "Z = np.zeros((10,10))\n",
    "print(Z)"
   ]
  },
  {
   "cell_type": "markdown",
   "metadata": {},
   "source": [
    "# 10.Subtract the mean of each row of a matrix"
   ]
  },
  {
   "cell_type": "code",
   "execution_count": 10,
   "metadata": {},
   "outputs": [
    {
     "name": "stdout",
     "output_type": "stream",
     "text": [
      "[[-0.12528541  0.1373785  -0.0323592   0.3146502  -0.04336567 -0.22396496\n",
      "  -0.21228427  0.3069226   0.39994987 -0.52164166]\n",
      " [ 0.32614115  0.09126418  0.27897034 -0.42417461  0.2126012  -0.26304564\n",
      "   0.16643084 -0.00642198  0.06947489 -0.45124038]\n",
      " [-0.15610628  0.02264544  0.14742364  0.04337364  0.3310955  -0.43611573\n",
      "   0.40083447 -0.36642082  0.16459465 -0.15132451]\n",
      " [-0.17525562  0.35973438  0.03230641  0.16120227 -0.35284438 -0.14394373\n",
      "  -0.11726306  0.08420459  0.16829155 -0.0164324 ]\n",
      " [-0.12246931  0.03799588 -0.0146728   0.14093804 -0.45552345  0.03093724\n",
      "   0.00631798 -0.07359418  0.22609525  0.22397537]]\n",
      "[[-0.12528541  0.1373785  -0.0323592   0.3146502  -0.04336567 -0.22396496\n",
      "  -0.21228427  0.3069226   0.39994987 -0.52164166]\n",
      " [ 0.32614115  0.09126418  0.27897034 -0.42417461  0.2126012  -0.26304564\n",
      "   0.16643084 -0.00642198  0.06947489 -0.45124038]\n",
      " [-0.15610628  0.02264544  0.14742364  0.04337364  0.3310955  -0.43611573\n",
      "   0.40083447 -0.36642082  0.16459465 -0.15132451]\n",
      " [-0.17525562  0.35973438  0.03230641  0.16120227 -0.35284438 -0.14394373\n",
      "  -0.11726306  0.08420459  0.16829155 -0.0164324 ]\n",
      " [-0.12246931  0.03799588 -0.0146728   0.14093804 -0.45552345  0.03093724\n",
      "   0.00631798 -0.07359418  0.22609525  0.22397537]]\n"
     ]
    }
   ],
   "source": [
    "X = np.random.rand(5, 10)\n",
    "\n",
    "# Recent versions of numpy\n",
    "Y = X - X.mean(axis=1, keepdims=True)\n",
    "\n",
    "# Older versions of numpy\n",
    "Y1 = X - X.mean(axis=1).reshape(-1, 1)\n",
    "\n",
    "print(Y)\n",
    "print(Y1)"
   ]
  },
  {
   "cell_type": "markdown",
   "metadata": {},
   "source": [
    "# 11.Consider a given vector, how to add 1 to each element indexed by a second vector (be careful with repeated indices)?"
   ]
  },
  {
   "cell_type": "code",
   "execution_count": 12,
   "metadata": {},
   "outputs": [
    {
     "name": "stdout",
     "output_type": "stream",
     "text": [
      "[3. 1. 4. 2. 4. 1. 3. 2. 7. 3.]\n",
      "[ 5.  1.  7.  3.  7.  1.  5.  3. 13.  5.]\n"
     ]
    }
   ],
   "source": [
    "Z = np.ones(10)\n",
    "I = np.random.randint(0,len(Z),20)\n",
    "Z += np.bincount(I, minlength=len(Z))\n",
    "print(Z)\n",
    "np.add.at(Z, I, 1)\n",
    "print(Z)"
   ]
  },
  {
   "cell_type": "markdown",
   "metadata": {},
   "source": [
    "# 12.How to get the diagonal of a dot product?"
   ]
  },
  {
   "cell_type": "code",
   "execution_count": 14,
   "metadata": {},
   "outputs": [
    {
     "name": "stdout",
     "output_type": "stream",
     "text": [
      "[[0.40760714 0.75914655 0.91276773]\n",
      " [0.7627755  0.8985706  0.51510846]\n",
      " [0.04987417 0.41748736 0.8627379 ]]\n",
      "[[0.82958122 0.9599485  0.31314071]\n",
      " [0.33017073 0.60910086 0.71653849]\n",
      " [0.70205783 0.93523027 0.4667918 ]]\n",
      "diagonal of a dot product method 1 is.... [1.22960693 1.76129035 0.71748237]\n",
      "diagonal of a dot product method 2 is.... [1.22960693 1.76129035 0.71748237]\n"
     ]
    }
   ],
   "source": [
    "A = np.random.uniform(0,1,(3,3))\n",
    "B = np.random.uniform(0,1,(3,3))\n",
    "print(A)\n",
    "print(B)\n",
    "# Slow version\n",
    "prod1=np.diag(np.dot(A, B))\n",
    "\n",
    "# Fast version\n",
    "prod2=np.sum(A * B.T, axis=1)\n",
    "\n",
    "print(\"diagonal of a dot product method 1 is....\",prod1)\n",
    "print(\"diagonal of a dot product method 2 is....\",prod2)"
   ]
  },
  {
   "cell_type": "markdown",
   "metadata": {},
   "source": [
    "# 13.How to find the most frequent value in an array?\n"
   ]
  },
  {
   "cell_type": "code",
   "execution_count": 15,
   "metadata": {},
   "outputs": [
    {
     "name": "stdout",
     "output_type": "stream",
     "text": [
      "[1 8 9 0 0 3 7 8 2 2 8 0 2 2 4 1 9 7 9 9 2 8 2 1 6 5 3 3 3 5 3 6 0 0 6 8 5\n",
      " 0 7 2 7 5 2 3 4 7 7 4 9 7]\n",
      "2\n"
     ]
    }
   ],
   "source": [
    "Z = np.random.randint(0,10,50)\n",
    "print(Z)\n",
    "print(np.bincount(Z).argmax())"
   ]
  },
  {
   "cell_type": "markdown",
   "metadata": {},
   "source": [
    "# 14.How to get the n largest values of an array"
   ]
  },
  {
   "cell_type": "code",
   "execution_count": 16,
   "metadata": {},
   "outputs": [
    {
     "name": "stdout",
     "output_type": "stream",
     "text": [
      "[9995 9996 9997 9998 9999]\n"
     ]
    }
   ],
   "source": [
    "Z = np.arange(10000)\n",
    "np.random.shuffle(Z)\n",
    "n = 5\n",
    "\n",
    "\n",
    "print (Z[np.argsort(Z)[-n:]])\n"
   ]
  },
  {
   "cell_type": "markdown",
   "metadata": {},
   "source": [
    "# 15.How to create a record array from a regular array?"
   ]
  },
  {
   "cell_type": "code",
   "execution_count": 17,
   "metadata": {},
   "outputs": [
    {
     "name": "stdout",
     "output_type": "stream",
     "text": [
      "[(b'Hello', 2.5, 3) (b'World', 3.6, 2)]\n"
     ]
    }
   ],
   "source": [
    "Z = np.array([(\"Hello\", 2.5, 3),\n",
    "              (\"World\", 3.6, 2)])\n",
    "R = np.core.records.fromarrays(Z.T,\n",
    "                               names='col1, col2, col3',\n",
    "                               formats = 'S8, f8, i8')\n",
    "print(R)"
   ]
  }
 ],
 "metadata": {
  "kernelspec": {
   "display_name": "Python 3",
   "language": "python",
   "name": "python3"
  },
  "language_info": {
   "codemirror_mode": {
    "name": "ipython",
    "version": 3
   },
   "file_extension": ".py",
   "mimetype": "text/x-python",
   "name": "python",
   "nbconvert_exporter": "python",
   "pygments_lexer": "ipython3",
   "version": "3.7.6"
  }
 },
 "nbformat": 4,
 "nbformat_minor": 4
}
