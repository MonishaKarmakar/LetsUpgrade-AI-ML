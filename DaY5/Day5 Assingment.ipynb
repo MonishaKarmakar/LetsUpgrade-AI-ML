{
 "cells": [
  {
   "cell_type": "markdown",
   "metadata": {},
   "source": [
    "# Day 5 program assingment"
   ]
  },
  {
   "cell_type": "markdown",
   "metadata": {},
   "source": [
    "## Question 1 :\n",
    "__Write a Python program to find the first 20 non-even prime natural numbers.__"
   ]
  },
  {
   "cell_type": "code",
   "execution_count": 18,
   "metadata": {
    "collapsed": false
   },
   "outputs": [
    {
     "name": "stdout",
     "output_type": "stream",
     "text": [
      "How many primes to print?  20\n",
      "Prime #1 is 3\n",
      "Prime #2 is 5\n",
      "Prime #3 is 7\n",
      "Prime #4 is 11\n",
      "Prime #5 is 13\n",
      "Prime #6 is 17\n",
      "Prime #7 is 19\n",
      "Prime #8 is 23\n",
      "Prime #9 is 29\n",
      "Prime #10 is 31\n",
      "Prime #11 is 37\n",
      "Prime #12 is 41\n",
      "Prime #13 is 43\n",
      "Prime #14 is 47\n",
      "Prime #15 is 53\n",
      "Prime #16 is 59\n",
      "Prime #17 is 61\n",
      "Prime #18 is 67\n",
      "Prime #19 is 71\n",
      "Prime #20 is 73\n"
     ]
    }
   ],
   "source": [
    "numprimes = input('How many primes to print?  ')\n",
    "count = 0\n",
    "potentialprime = 3\n",
    "\n",
    "def primetest(potentialprime):\n",
    "    divisor = 2\n",
    "    while divisor <= potentialprime:\n",
    "        if potentialprime == 2:\n",
    "            return True\n",
    "        elif potentialprime % divisor == 0:\n",
    "            return False\n",
    "            break\n",
    "        while potentialprime % divisor != 0:\n",
    "            if potentialprime - divisor > 1:\n",
    "                divisor += 1\n",
    "            else:\n",
    "                return True\n",
    "\n",
    "while count < int(numprimes):\n",
    "    if primetest(potentialprime) == True:\n",
    "        print ('Prime #' + str(count + 1), 'is', potentialprime)\n",
    "        count += 1\n",
    "        potentialprime += 1\n",
    "    else:\n",
    "        potentialprime += 1"
   ]
  },
  {
   "cell_type": "markdown",
   "metadata": {
    "collapsed": true
   },
   "source": [
    "# Question 2 :\n",
    "__Write a Python program to implement 15 functions of string.__\n"
   ]
  },
  {
   "cell_type": "code",
   "execution_count": 20,
   "metadata": {
    "collapsed": false
   },
   "outputs": [
    {
     "name": "stdout",
     "output_type": "stream",
     "text": [
      "Program to implement 15 functions of string\n",
      "enter the string you want to perform different string functionHello World. trying to execute DIFFERENT KIND o\\f functionc of s\\t\\r\\i\\n\\g.\n",
      "your input string is Hello World. trying to execute DIFFERENT KIND o\\f functionc of s\\t\\r\\i\\n\\g.\n",
      "using capitalize function this is the output Hello world. trying to execute different kind o\\f functionc of s\\t\\r\\i\\n\\g.\n",
      "using casefold function this is the output hello world. trying to execute different kind o\\f functionc of s\\t\\r\\i\\n\\g.\n",
      "using center function this is the output Hello World. trying to execute DIFFERENT KIND o\\f functionc of s\\t\\r\\i\\n\\g.\n",
      "using count function this is the output 0\n",
      "using encode function this is the output b'Hello World. trying to execute DIFFERENT KIND o\\\\f functionc of s\\\\t\\\\r\\\\i\\\\n\\\\g.'\n",
      "using endswith function this is the output True\n",
      "using expandtabs function this is the output Hello World. trying to execute DIFFERENT KIND o\\f functionc of s\\t\\r\\i\\n\\g.\n",
      "using find function this is the output -1\n",
      "using index function this is the output 50\n",
      "using isalpha function this is the output False\n",
      "using islower function this is the output False\n",
      "using isspace function this is the output False\n",
      "using isupper function this is the output False\n"
     ]
    }
   ],
   "source": [
    "print(\"Program to implement 15 functions of string\")\n",
    "i= str(input(\"enter the string you want to perform different string function\"))\n",
    "print(\"your input string is\", i)\n",
    "a=i.capitalize()\n",
    "print(\"using capitalize function this is the output\",a)\n",
    "b=i.casefold()\n",
    "print(\"using casefold function this is the output\",b)\n",
    "c= i.center(5)\n",
    "print(\"using center function this is the output\",c)\n",
    "d=i.count(\"a\")\n",
    "print(\"using count function this is the output\",d)\n",
    "e=i.encode()\n",
    "print(\"using encode function this is the output\",e)\n",
    "f=i.endswith(\".\")\n",
    "print(\"using endswith function this is the output\",f)\n",
    "g=i.expandtabs(2)\n",
    "print(\"using expandtabs function this is the output\",g)\n",
    "h=i.find(\"mo\")\n",
    "print(\"using find function this is the output\",h)\n",
    "j=i.index(\"function\")\n",
    "print(\"using index function this is the output\",j)\n",
    "k=i.isalpha()\n",
    "print(\"using isalpha function this is the output\",k)\n",
    "l=i.islower()\n",
    "print(\"using islower function this is the output\",l)\n",
    "m=i.isspace()\n",
    "print(\"using isspace function this is the output\",m)\n",
    "n=i.isupper()\n",
    "print(\"using isupper function this is the output\",n)"
   ]
  },
  {
   "cell_type": "markdown",
   "metadata": {},
   "source": [
    "# Question 3:\n",
    "__Write a Python program to check if the given string is a Palindrome or Anagram or None of them.\n",
    "Display the message accordingly to the user.__"
   ]
  },
  {
   "cell_type": "code",
   "execution_count": 26,
   "metadata": {
    "collapsed": false
   },
   "outputs": [
    {
     "name": "stdout",
     "output_type": "stream",
     "text": [
      "Enter your 1st stringmadam\n",
      "The entered string is a palindrom\n"
     ]
    }
   ],
   "source": [
    "i=str(input(\"Enter your 1st string\"))\n",
    "rev_string=i[::-1]\n",
    "if rev_string==i:\n",
    "    print(\"The entered string is a palindrom\")\n",
    "else:\n",
    "    j=str(input(\"enter the srting\"))\n",
    "    st1=sorted(i)\n",
    "    st2=sorted(j)\n",
    "    if st1==st2:\n",
    "        print(\"Anagram\")\n",
    "    else:\n",
    "        print(\"None\")\n",
    "\n"
   ]
  },
  {
   "cell_type": "markdown",
   "metadata": {},
   "source": [
    "# Question 4:\n",
    "__Write a Python's user defined function that removes all the additional characters from the string\n",
    "and converts it finally to lower case using built-in lower(). eg: If the string is \"Dr. Darshan Ingle\n",
    "@AI-ML Trainer\", then the output be \"drdarshaningleaimltrainer\".__"
   ]
  },
  {
   "cell_type": "code",
   "execution_count": 30,
   "metadata": {
    "collapsed": false
   },
   "outputs": [
    {
     "name": "stdout",
     "output_type": "stream",
     "text": [
      "the input string is  Dr. Darshan Ingle @AI-ML Trainer\n",
      "the result string is dr.darshaningleaimltrainer\n",
      "Thank You\n"
     ]
    }
   ],
   "source": [
    "def remove(i):\n",
    "    invalid=['!','@','#','$','%','^','&','*','(',')','+','-',':','=',\" \"]\n",
    "    for j in invalid:\n",
    "        i=i.replace(j,'')\n",
    "        i=i.lower()\n",
    "    print(\"the result string is\", i)\n",
    "    \n",
    "s=\"Dr. Darshan Ingle @AI-ML Trainer\" \n",
    "print(\"the input string is \", s)\n",
    "remove(s)\n",
    "print(\"Thank You\")"
   ]
  },
  {
   "cell_type": "code",
   "execution_count": null,
   "metadata": {
    "collapsed": true
   },
   "outputs": [],
   "source": []
  }
 ],
 "metadata": {
  "anaconda-cloud": {},
  "kernelspec": {
   "display_name": "Python [default]",
   "language": "python",
   "name": "python3"
  },
  "language_info": {
   "codemirror_mode": {
    "name": "ipython",
    "version": 3
   },
   "file_extension": ".py",
   "mimetype": "text/x-python",
   "name": "python",
   "nbconvert_exporter": "python",
   "pygments_lexer": "ipython3",
   "version": "3.5.2"
  }
 },
 "nbformat": 4,
 "nbformat_minor": 1
}
