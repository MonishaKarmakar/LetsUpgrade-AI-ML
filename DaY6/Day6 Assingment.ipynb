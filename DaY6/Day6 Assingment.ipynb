{
 "cells": [
  {
   "cell_type": "markdown",
   "metadata": {},
   "source": [
    "# Day 6 Program Assingment"
   ]
  },
  {
   "cell_type": "markdown",
   "metadata": {},
   "source": [
    "# Question 1:\n",
    "__Assuming that we have some email addresses in the \"username@companyname.com\" format, please write program\n",
    "to print the company name of a given email address. Both user names and company names are composed of letters\n",
    "only.__"
   ]
  },
  {
   "cell_type": "code",
   "execution_count": 1,
   "metadata": {
    "collapsed": false
   },
   "outputs": [
    {
     "name": "stdout",
     "output_type": "stream",
     "text": [
      "Enter your mail idusername@companyname.com\n",
      "companyname\n"
     ]
    }
   ],
   "source": [
    "x= input(\"Enter your mail id\")\n",
    "y = x.split(\"@\")[1].split(\".\")[0]\n",
    "print(y)\n"
   ]
  },
  {
   "cell_type": "markdown",
   "metadata": {},
   "source": [
    "# Question 2:\n",
    "__Write a program that accepts a comma-separated sequence of words as input and prints the words in a comma\n",
    "separated sequence after sorting them alphabetically.__\n"
   ]
  },
  {
   "cell_type": "code",
   "execution_count": 4,
   "metadata": {
    "collapsed": false
   },
   "outputs": [
    {
     "name": "stdout",
     "output_type": "stream",
     "text": [
      "Input comma separated sequence of wordsjava,python,c,c++,ruby\n",
      "c,c++,java,python,ruby\n"
     ]
    }
   ],
   "source": [
    "sequence = input(\"Input comma separated sequence of words\")\n",
    "i = [i for i in sequence.split(\",\")]\n",
    "print(\",\".join(sorted(list(set(i)))))"
   ]
  },
  {
   "cell_type": "markdown",
   "metadata": {},
   "source": [
    "# Question 3:\n",
    "__Create your own Jupyter Notebook for Sets__"
   ]
  },
  {
   "cell_type": "code",
   "execution_count": 18,
   "metadata": {
    "collapsed": false
   },
   "outputs": [
    {
     "name": "stdout",
     "output_type": "stream",
     "text": [
      "{'dog', 'cat', 'elephant'}\n",
      "3\n",
      "{'dog', 'cat', 'elephant', 'monkey'}\n",
      "4\n",
      "{'dog', 'elephant', 'monkey', 'lizard', 'frog', 'cat'}\n",
      "6\n",
      "{'dog', 'elephant', 'monkey', 'frog', 'cat'}\n",
      "{'c', 'dog', 'elephant', 'monkey', 'frog', 'cat'}\n",
      "c\n"
     ]
    }
   ],
   "source": [
    "learnset = {\"dog\", \"cat\", \"elephant\"}\n",
    "print(learnset)\n",
    "print(len(learnset))\n",
    "\n",
    "\n",
    "learnset.add(\"monkey\")\n",
    "print(learnset)\n",
    "print(len(learnset))\n",
    "\n",
    "learnset.update([\"frog\", \"lizard\", \"dog\"])\n",
    "print(learnset)\n",
    "print(len(learnset))\n",
    "\n",
    "\n",
    "learnset.remove(\"lizard\")\n",
    "print(learnset)\n",
    "\n",
    "learnset.add(\"c\")\n",
    "print(learnset)\n",
    "\n",
    "x = learnset.pop()\n",
    "print(x)"
   ]
  },
  {
   "cell_type": "markdown",
   "metadata": {},
   "source": [
    "# Question 4:\n",
    "__Given a list of n-1 numbers ranging from 1 to n, your task is to find the missing number. There are no duplicates__\n"
   ]
  },
  {
   "cell_type": "code",
   "execution_count": 9,
   "metadata": {
    "collapsed": false
   },
   "outputs": [
    {
     "name": "stdout",
     "output_type": "stream",
     "text": [
      "enter numbers between 1 to n seperated by comma operator with some missing value1,3,5,7,4,9\n",
      "['1', '3', '5', '7', '4', '9']\n",
      "missing value [2, 6, 8]\n"
     ]
    }
   ],
   "source": [
    "st1=input(\"enter numbers between 1 to n seperated by comma operator with some missing value\")\n",
    "st1=st1.split(\",\")\n",
    "print(st1)\n",
    "lst=[]\n",
    "result=[]\n",
    "for i in st1:\n",
    "    if i.isnumeric():\n",
    "        lst.append(int(i))\n",
    "for i in range(1,max(lst)+1):\n",
    "    if i not in lst:\n",
    "        result.append(i)\n",
    "print(\"missing value\", result)\n",
    "\n"
   ]
  },
  {
   "cell_type": "markdown",
   "metadata": {},
   "source": [
    "# Question 5:\n",
    "__With a given list L, write a program to print this list L after removing all duplicate values with original order reserved.__"
   ]
  },
  {
   "cell_type": "code",
   "execution_count": 20,
   "metadata": {
    "collapsed": false
   },
   "outputs": [
    {
     "name": "stdout",
     "output_type": "stream",
     "text": [
      "input :12 24 35 24 88 120 155 88 120 155 86\n",
      "12 24 35 86 88 120 155\n"
     ]
    }
   ],
   "source": [
    "l= list(map(int,input('input :').strip().split()))\n",
    "x=sorted(set(l))\n",
    "x=list(map(str,x))\n",
    "print(' '.join(x))"
   ]
  },
  {
   "cell_type": "code",
   "execution_count": null,
   "metadata": {
    "collapsed": true
   },
   "outputs": [],
   "source": []
  }
 ],
 "metadata": {
  "anaconda-cloud": {},
  "kernelspec": {
   "display_name": "Python [default]",
   "language": "python",
   "name": "python3"
  },
  "language_info": {
   "codemirror_mode": {
    "name": "ipython",
    "version": 3
   },
   "file_extension": ".py",
   "mimetype": "text/x-python",
   "name": "python",
   "nbconvert_exporter": "python",
   "pygments_lexer": "ipython3",
   "version": "3.5.2"
  }
 },
 "nbformat": 4,
 "nbformat_minor": 1
}
