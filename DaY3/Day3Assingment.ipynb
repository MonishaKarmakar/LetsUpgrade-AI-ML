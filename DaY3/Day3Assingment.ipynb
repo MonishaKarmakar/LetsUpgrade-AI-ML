{
 "cells": [
  {
   "cell_type": "markdown",
   "metadata": {},
   "source": [
    "# Day 3 Program Assingment"
   ]
  },
  {
   "cell_type": "markdown",
   "metadata": {},
   "source": [
    "## Program to Substract two complex Number in Python"
   ]
  },
  {
   "cell_type": "code",
   "execution_count": 13,
   "metadata": {},
   "outputs": [
    {
     "name": "stdout",
     "output_type": "stream",
     "text": [
      "Enter first Complex Number5+4j\n",
      "Your Entered first Complex Number is (5+4j)\n",
      "Enter second Complex Number3+2j\n",
      "Your Entered second Complex Number is (3+2j)\n",
      "Result of Subtraction of the two complex number is (2+2j)\n"
     ]
    }
   ],
   "source": [
    "compNo1= complex(input(\"Enter first Complex Number\"))\n",
    "print(\"Your Entered first Complex Number is \\b\", compNo1)\n",
    "compNo2= complex(input(\"Enter second Complex Number\"))\n",
    "print(\"Your Entered second Complex Number is \\b\", compNo2)\n",
    "Sub= compNo1-compNo2\n",
    "print(\"Result of Subtraction of the two complex number is \\b\", Sub)"
   ]
  },
  {
   "cell_type": "markdown",
   "metadata": {},
   "source": [
    "## Program to Find fourth root of a number"
   ]
  },
  {
   "cell_type": "code",
   "execution_count": 16,
   "metadata": {},
   "outputs": [
    {
     "name": "stdout",
     "output_type": "stream",
     "text": [
      "Enter the number to find the fourth Root81\n",
      "fourth root of the entered number is 3.0\n"
     ]
    }
   ],
   "source": [
    "Num= int(input(\"Enter the number to find the fourth Root \\b\"))\n",
    "Root= 4\n",
    "ans=Num**(1/Root)\n",
    "print(\"fourth root of the entered number is \\b\",ans)"
   ]
  },
  {
   "cell_type": "markdown",
   "metadata": {},
   "source": [
    "## Program to swap two number using a temporary Variable"
   ]
  },
  {
   "cell_type": "code",
   "execution_count": 18,
   "metadata": {},
   "outputs": [
    {
     "name": "stdout",
     "output_type": "stream",
     "text": [
      "enter first number10\n",
      "The first number before swapping is 10\n",
      "enter second number6\n",
      "The second number before swapping is 6\n",
      "Swapping of two number using a temporary Variable\n",
      "After swapping the first number is 6\n",
      "After swapping the second number is 10\n"
     ]
    }
   ],
   "source": [
    "no1= int(input(\"enter first number\"))\n",
    "print(\"The first number before swapping is \\b\", no1)\n",
    "no2= int(input(\"enter second number\"))\n",
    "print(\"The second number before swapping is \\b\", no2)\n",
    "print(\"Swapping of two number using a temporary Variable\")\n",
    "temp=no1\n",
    "no1=no2\n",
    "no2=temp\n",
    "print(\"After swapping the first number is \\b\", no1)\n",
    "print(\"After swapping the second number is \\b\", no2)"
   ]
  },
  {
   "cell_type": "markdown",
   "metadata": {},
   "source": [
    "##  Program to swap two numbers in Python without using a temporary variable"
   ]
  },
  {
   "cell_type": "code",
   "execution_count": 22,
   "metadata": {},
   "outputs": [
    {
     "name": "stdout",
     "output_type": "stream",
     "text": [
      "enter first number3\n",
      "The first number before swapping is 3\n",
      "enter second number9\n",
      "The second number before swapping is 9\n",
      "Swapping of two number without using a temporary Variable\n",
      "After swapping the first number is 9\n",
      "After swapping the second number is 3\n"
     ]
    }
   ],
   "source": [
    "no1= int(input(\"enter first number\"))\n",
    "print(\"The first number before swapping is \\b\", no1)\n",
    "no2= int(input(\"enter second number\"))\n",
    "print(\"The second number before swapping is \\b\", no2)\n",
    "print(\"Swapping of two number without using a temporary Variable\")\n",
    "no1=no1+no2\n",
    "no2=no1-no2\n",
    "no1=no1-no2\n",
    "print(\"After swapping the first number is \\b\", no1)\n",
    "print(\"After swapping the second number is \\b\", no2)"
   ]
  },
  {
   "cell_type": "markdown",
   "metadata": {},
   "source": [
    "##  Program to convert fahrenheit to kelvin and celsius both"
   ]
  },
  {
   "cell_type": "code",
   "execution_count": 3,
   "metadata": {},
   "outputs": [
    {
     "name": "stdout",
     "output_type": "stream",
     "text": [
      "Enter your fahrenheit reading32\n",
      "your Entered fahrenheit Readings is 32.0\n",
      "Converting it to kelvin\n",
      "The value in kelvin is 273.5\n",
      "Converting it to Celsius\n",
      "The value in Celsius is 0.0\n"
     ]
    }
   ],
   "source": [
    "Fahrenheit= float(input(\"Enter your fahrenheit reading\"))\n",
    "print(\"your Entered fahrenheit Readings is \\b\", Fahrenheit)\n",
    "print(\"Converting it to kelvin\")\n",
    "kelvin= 273.5 +((Fahrenheit-32.0)*(5.0/9.0))\n",
    "print(\"The value in kelvin is \\b\", kelvin)\n",
    "print(\"Converting it to Celsius\")\n",
    "Celsius= ((Fahrenheit-32)*(5/9))\n",
    "print(\"The value in Celsius is \\b\", Celsius)"
   ]
  },
  {
   "cell_type": "markdown",
   "metadata": {},
   "source": [
    "##  Program to demonstrate all the available data types in Python"
   ]
  },
  {
   "cell_type": "code",
   "execution_count": 9,
   "metadata": {},
   "outputs": [
    {
     "name": "stdout",
     "output_type": "stream",
     "text": [
      "To demonstrate available data type in python\n",
      "This is of \u0007 <class 'int'>\n",
      "This is of \u0007 <class 'float'>\n",
      "This is of \u0007 <class 'str'>\n",
      "This is of \u0007 <class 'complex'>\n",
      "This is of \u0007 <class 'bool'>\n",
      "This is of \u0007 <class 'list'>\n",
      "This is of \u0007 <class 'dict'>\n",
      "This is of \u0007 <class 'tuple'>\n"
     ]
    }
   ],
   "source": [
    "print(\"To demonstrate available data type in python\")\n",
    "a=10\n",
    "b=3.4\n",
    "c=\"monisha\"\n",
    "d=4+6j\n",
    "e= True\n",
    "f= [1,20,\"learning\"]\n",
    "g={\"name\":\"monisha\",\"Course\":\"AI-ML\"}\n",
    "h=(10,\"covid-19\",11,3.98)\n",
    "print(\"This is of \\a\", type(a))\n",
    "print(\"This is of \\a\", type(b))\n",
    "print(\"This is of \\a\", type(c))\n",
    "print(\"This is of \\a\", type(d))\n",
    "print(\"This is of \\a\", type(e))\n",
    "print(\"This is of \\a\", type(f))\n",
    "print(\"This is of \\a\", type(g))\n",
    "print(\"This is of \\a\", type(h))"
   ]
  },
  {
   "cell_type": "markdown",
   "metadata": {},
   "source": [
    "# TASK- To create a Markdown cell in jupyter and list the steps discussed in the session by Dr. Darshan Ingle sir to create Github profile and upload Githubs Assignment link.\n",
    "\n",
    "## Steps discussed by sir are as following.\n",
    "\n",
    "###  1. Load the github url and Create a profile( sign up if new user else login if alread has existing account)\n",
    "###  2. Click on New button\n",
    "###  3. Name the repository as LetsUpgrade AI-ML\n",
    "###  4. Upload your project/assignment folder by drag-drop option\n",
    "###  5. Click on commit changes\n",
    "###  6. Open the LetsUpgrade project/assignment submission Google form\n",
    "###  7. fill the email, and other required fields\n",
    "###  8. Copy paste the github url where you uploaded the project/assignment folder in your github\n",
    "###  9. Click on submit"
   ]
  },
  {
   "cell_type": "code",
   "execution_count": null,
   "metadata": {},
   "outputs": [],
   "source": []
  }
 ],
 "metadata": {
  "kernelspec": {
   "display_name": "Python 3",
   "language": "python",
   "name": "python3"
  },
  "language_info": {
   "codemirror_mode": {
    "name": "ipython",
    "version": 3
   },
   "file_extension": ".py",
   "mimetype": "text/x-python",
   "name": "python",
   "nbconvert_exporter": "python",
   "pygments_lexer": "ipython3",
   "version": "3.7.6"
  }
 },
 "nbformat": 4,
 "nbformat_minor": 4
}
